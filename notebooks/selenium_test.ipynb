{
 "cells": [
  {
   "cell_type": "code",
   "execution_count": 1,
   "metadata": {},
   "outputs": [
    {
     "name": "stderr",
     "output_type": "stream",
     "text": [
      "C:\\Users\\javij\\AppData\\Local\\Temp\\ipykernel_1188\\3626091396.py:11: DeprecationWarning: executable_path has been deprecated, please pass in a Service object\n",
      "  driver = webdriver.Chrome(ChromeDriverManager().install())\n"
     ]
    }
   ],
   "source": [
    "from selenium import webdriver\n",
    "from selenium.webdriver.common.by import By\n",
    "from selenium.webdriver.common.keys import Keys\n",
    "from webdriver_manager.chrome import ChromeDriverManager\n",
    "from selenium.webdriver.support.ui import WebDriverWait\n",
    "from selenium.webdriver.support import expected_conditions as EC\n",
    "import time\n",
    "import json\n",
    "\n",
    "DRIVER_PATH = \"chromedriver\"\n",
    "driver = webdriver.Chrome(ChromeDriverManager().install())\n",
    "driver.get('https://magic.wizards.com/en/content/deck-lists-magic-online-products-game-info')\n",
    "driver.find_element(By.CLASS_NAME,\"decline-button\").click()\n",
    "time.sleep(2)"
   ]
  },
  {
   "cell_type": "code",
   "execution_count": 2,
   "metadata": {},
   "outputs": [
    {
     "ename": "ElementNotInteractableException",
     "evalue": "Message: element not interactable\n  (Session info: chrome=105.0.5195.127)\nStacktrace:\nBacktrace:\n\tOrdinal0 [0x0120DF13+2219795]\n\tOrdinal0 [0x011A2841+1779777]\n\tOrdinal0 [0x010B4100+803072]\n\tOrdinal0 [0x010E3FB6+999350]\n\tOrdinal0 [0x010D9B76+957302]\n\tOrdinal0 [0x010FE7FC+1107964]\n\tOrdinal0 [0x010D94B4+955572]\n\tOrdinal0 [0x010FEA14+1108500]\n\tOrdinal0 [0x0110F192+1175954]\n\tOrdinal0 [0x010FE616+1107478]\n\tOrdinal0 [0x010D7F89+950153]\n\tOrdinal0 [0x010D8F56+954198]\n\tGetHandleVerifier [0x01502CB2+3040210]\n\tGetHandleVerifier [0x014F2BB4+2974420]\n\tGetHandleVerifier [0x012A6A0A+565546]\n\tGetHandleVerifier [0x012A5680+560544]\n\tOrdinal0 [0x011A9A5C+1808988]\n\tOrdinal0 [0x011AE3A8+1827752]\n\tOrdinal0 [0x011AE495+1827989]\n\tOrdinal0 [0x011B80A4+1867940]\n\tBaseThreadInitThunk [0x761C6739+25]\n\tRtlGetFullPathName_UEx [0x774D8FD2+1218]\n\tRtlGetFullPathName_UEx [0x774D8F9D+1165]\n",
     "output_type": "error",
     "traceback": [
      "\u001b[1;31m---------------------------------------------------------------------------\u001b[0m",
      "\u001b[1;31mElementNotInteractableException\u001b[0m           Traceback (most recent call last)",
      "Cell \u001b[1;32mIn [2], line 37\u001b[0m\n\u001b[0;32m     33\u001b[0m     list_links \u001b[38;5;241m=\u001b[39m [div\u001b[38;5;241m.\u001b[39mfind_element(By\u001b[38;5;241m.\u001b[39mTAG_NAME,\u001b[38;5;124m\"\u001b[39m\u001b[38;5;124ma\u001b[39m\u001b[38;5;124m\"\u001b[39m)\u001b[38;5;241m.\u001b[39mget_attribute(\u001b[38;5;124m\"\u001b[39m\u001b[38;5;124mhref\u001b[39m\u001b[38;5;124m\"\u001b[39m) \u001b[38;5;28;01mfor\u001b[39;00m div \u001b[38;5;129;01min\u001b[39;00m div_links]\n\u001b[0;32m     35\u001b[0m     \u001b[38;5;28;01mreturn\u001b[39;00m list_links\n\u001b[1;32m---> 37\u001b[0m links \u001b[38;5;241m=\u001b[39m get_links(dt\u001b[38;5;241m.\u001b[39mdatetime(\u001b[38;5;241m2021\u001b[39m,\u001b[38;5;241m1\u001b[39m,\u001b[38;5;241m1\u001b[39m),dt\u001b[38;5;241m.\u001b[39mdatetime(\u001b[38;5;241m2021\u001b[39m,\u001b[38;5;241m1\u001b[39m,\u001b[38;5;241m31\u001b[39m),driver)\n",
      "Cell \u001b[1;32mIn [2], line 28\u001b[0m, in \u001b[0;36mget_links\u001b[1;34m(date_start, date_end, driver)\u001b[0m\n\u001b[0;32m     26\u001b[0m     see_more_button \u001b[38;5;241m=\u001b[39m driver\u001b[38;5;241m.\u001b[39mfind_element(By\u001b[38;5;241m.\u001b[39mCLASS_NAME,\u001b[38;5;124m\"\u001b[39m\u001b[38;5;124msee-more-article-listing-section\u001b[39m\u001b[38;5;124m\"\u001b[39m)\n\u001b[0;32m     27\u001b[0m     see_more_buttom \u001b[38;5;241m=\u001b[39m wait\u001b[38;5;241m.\u001b[39muntil(EC\u001b[38;5;241m.\u001b[39melement_to_be_clickable((By\u001b[38;5;241m.\u001b[39mCLASS_NAME,\u001b[38;5;124m\"\u001b[39m\u001b[38;5;124msee-more-article-listing-section\u001b[39m\u001b[38;5;124m\"\u001b[39m)))\n\u001b[1;32m---> 28\u001b[0m     \u001b[43msee_more_buttom\u001b[49m\u001b[38;5;241;43m.\u001b[39;49m\u001b[43mclick\u001b[49m\u001b[43m(\u001b[49m\u001b[43m)\u001b[49m\n\u001b[0;32m     30\u001b[0m time\u001b[38;5;241m.\u001b[39msleep(\u001b[38;5;241m5\u001b[39m)\n\u001b[0;32m     32\u001b[0m div_links \u001b[38;5;241m=\u001b[39m driver\u001b[38;5;241m.\u001b[39mfind_elements(By\u001b[38;5;241m.\u001b[39mCLASS_NAME,\u001b[38;5;124m\"\u001b[39m\u001b[38;5;124marticle-item-extended\u001b[39m\u001b[38;5;124m\"\u001b[39m)\n",
      "File \u001b[1;32mc:\\Users\\javij\\miniconda3\\envs\\mtg-preds\\lib\\site-packages\\selenium\\webdriver\\remote\\webelement.py:88\u001b[0m, in \u001b[0;36mWebElement.click\u001b[1;34m(self)\u001b[0m\n\u001b[0;32m     86\u001b[0m \u001b[39mdef\u001b[39;00m \u001b[39mclick\u001b[39m(\u001b[39mself\u001b[39m) \u001b[39m-\u001b[39m\u001b[39m>\u001b[39m \u001b[39mNone\u001b[39;00m:\n\u001b[0;32m     87\u001b[0m     \u001b[39m\"\"\"Clicks the element.\"\"\"\u001b[39;00m\n\u001b[1;32m---> 88\u001b[0m     \u001b[39mself\u001b[39;49m\u001b[39m.\u001b[39;49m_execute(Command\u001b[39m.\u001b[39;49mCLICK_ELEMENT)\n",
      "File \u001b[1;32mc:\\Users\\javij\\miniconda3\\envs\\mtg-preds\\lib\\site-packages\\selenium\\webdriver\\remote\\webelement.py:396\u001b[0m, in \u001b[0;36mWebElement._execute\u001b[1;34m(self, command, params)\u001b[0m\n\u001b[0;32m    394\u001b[0m     params \u001b[39m=\u001b[39m {}\n\u001b[0;32m    395\u001b[0m params[\u001b[39m'\u001b[39m\u001b[39mid\u001b[39m\u001b[39m'\u001b[39m] \u001b[39m=\u001b[39m \u001b[39mself\u001b[39m\u001b[39m.\u001b[39m_id\n\u001b[1;32m--> 396\u001b[0m \u001b[39mreturn\u001b[39;00m \u001b[39mself\u001b[39;49m\u001b[39m.\u001b[39;49m_parent\u001b[39m.\u001b[39;49mexecute(command, params)\n",
      "File \u001b[1;32mc:\\Users\\javij\\miniconda3\\envs\\mtg-preds\\lib\\site-packages\\selenium\\webdriver\\remote\\webdriver.py:428\u001b[0m, in \u001b[0;36mWebDriver.execute\u001b[1;34m(self, driver_command, params)\u001b[0m\n\u001b[0;32m    426\u001b[0m response \u001b[39m=\u001b[39m \u001b[39mself\u001b[39m\u001b[39m.\u001b[39mcommand_executor\u001b[39m.\u001b[39mexecute(driver_command, params)\n\u001b[0;32m    427\u001b[0m \u001b[39mif\u001b[39;00m response:\n\u001b[1;32m--> 428\u001b[0m     \u001b[39mself\u001b[39;49m\u001b[39m.\u001b[39;49merror_handler\u001b[39m.\u001b[39;49mcheck_response(response)\n\u001b[0;32m    429\u001b[0m     response[\u001b[39m'\u001b[39m\u001b[39mvalue\u001b[39m\u001b[39m'\u001b[39m] \u001b[39m=\u001b[39m \u001b[39mself\u001b[39m\u001b[39m.\u001b[39m_unwrap_value(\n\u001b[0;32m    430\u001b[0m         response\u001b[39m.\u001b[39mget(\u001b[39m'\u001b[39m\u001b[39mvalue\u001b[39m\u001b[39m'\u001b[39m, \u001b[39mNone\u001b[39;00m))\n\u001b[0;32m    431\u001b[0m     \u001b[39mreturn\u001b[39;00m response\n",
      "File \u001b[1;32mc:\\Users\\javij\\miniconda3\\envs\\mtg-preds\\lib\\site-packages\\selenium\\webdriver\\remote\\errorhandler.py:243\u001b[0m, in \u001b[0;36mErrorHandler.check_response\u001b[1;34m(self, response)\u001b[0m\n\u001b[0;32m    241\u001b[0m         alert_text \u001b[39m=\u001b[39m value[\u001b[39m'\u001b[39m\u001b[39malert\u001b[39m\u001b[39m'\u001b[39m]\u001b[39m.\u001b[39mget(\u001b[39m'\u001b[39m\u001b[39mtext\u001b[39m\u001b[39m'\u001b[39m)\n\u001b[0;32m    242\u001b[0m     \u001b[39mraise\u001b[39;00m exception_class(message, screen, stacktrace, alert_text)  \u001b[39m# type: ignore[call-arg]  # mypy is not smart enough here\u001b[39;00m\n\u001b[1;32m--> 243\u001b[0m \u001b[39mraise\u001b[39;00m exception_class(message, screen, stacktrace)\n",
      "\u001b[1;31mElementNotInteractableException\u001b[0m: Message: element not interactable\n  (Session info: chrome=105.0.5195.127)\nStacktrace:\nBacktrace:\n\tOrdinal0 [0x0120DF13+2219795]\n\tOrdinal0 [0x011A2841+1779777]\n\tOrdinal0 [0x010B4100+803072]\n\tOrdinal0 [0x010E3FB6+999350]\n\tOrdinal0 [0x010D9B76+957302]\n\tOrdinal0 [0x010FE7FC+1107964]\n\tOrdinal0 [0x010D94B4+955572]\n\tOrdinal0 [0x010FEA14+1108500]\n\tOrdinal0 [0x0110F192+1175954]\n\tOrdinal0 [0x010FE616+1107478]\n\tOrdinal0 [0x010D7F89+950153]\n\tOrdinal0 [0x010D8F56+954198]\n\tGetHandleVerifier [0x01502CB2+3040210]\n\tGetHandleVerifier [0x014F2BB4+2974420]\n\tGetHandleVerifier [0x012A6A0A+565546]\n\tGetHandleVerifier [0x012A5680+560544]\n\tOrdinal0 [0x011A9A5C+1808988]\n\tOrdinal0 [0x011AE3A8+1827752]\n\tOrdinal0 [0x011AE495+1827989]\n\tOrdinal0 [0x011B80A4+1867940]\n\tBaseThreadInitThunk [0x761C6739+25]\n\tRtlGetFullPathName_UEx [0x774D8FD2+1218]\n\tRtlGetFullPathName_UEx [0x774D8F9D+1165]\n"
     ]
    }
   ],
   "source": [
    "import datetime as dt\n",
    "def get_links(date_start,date_end,driver):\n",
    "    # Filter dates\n",
    "    date_start_field = driver.find_element(By.ID,\"datepickerFrom\")\n",
    "    date_start_field.clear()\n",
    "    date_start_field.send_keys(date_start.strftime(\"%m/%d/%Y\"))\n",
    "\n",
    "    date_end_field = driver.find_element(By.ID,\"datepickerTo\")\n",
    "    date_end_field.clear()\n",
    "    date_end_field.send_keys(date_end.strftime(\"%m/%d/%Y\"))\n",
    "\n",
    "    # Filter only brackets\n",
    "    search_field = driver.find_element(By.CLASS_NAME, \"search-field-group\").find_element(By.CLASS_NAME, \"form-text\")\n",
    "    search_field.clear()\n",
    "    search_field.send_keys(\"Bracket\")\n",
    "\n",
    "    search_buttom = driver.find_element(By.ID,\"custom-search-submit\")\n",
    "    search_buttom.click()\n",
    "\n",
    "    # Wait for initialize, in seconds\n",
    "    wait = WebDriverWait(driver, 25)\n",
    "    see_more_button = driver.find_element(By.CLASS_NAME,\"see-more-article-listing-section\")\n",
    "    driver.execute_script('arguments[0].setAttribute(\"data-see-more-limit\",\"50\")', see_more_button)\n",
    "\n",
    "    for i in range(100):\n",
    "        see_more_button = driver.find_element(By.CLASS_NAME,\"see-more-article-listing-section\")\n",
    "        see_more_buttom = wait.until(EC.element_to_be_clickable((By.CLASS_NAME,\"see-more-article-listing-section\")))\n",
    "        see_more_buttom.click()\n",
    "\n",
    "    time.sleep(5)\n",
    "\n",
    "    div_links = driver.find_elements(By.CLASS_NAME,\"article-item-extended\")\n",
    "    list_links = [div.find_element(By.TAG_NAME,\"a\").get_attribute(\"href\") for div in div_links]\n",
    "\n",
    "    return list_links\n",
    "\n",
    "links = get_links(dt.datetime(2021,1,1),dt.datetime(2021,1,31),driver)"
   ]
  },
  {
   "cell_type": "code",
   "execution_count": null,
   "metadata": {},
   "outputs": [
    {
     "name": "stdout",
     "output_type": "stream",
     "text": [
      "['https://magic.wizards.com/en/articles/archive/mtgo-standings/vintage-challenge-2021-01-31', 'https://magic.wizards.com/en/articles/archive/mtgo-standings/standard-challenge-2021-01-31', 'https://magic.wizards.com/en/articles/archive/mtgo-standings/pioneer-challenge-2021-01-31', 'https://magic.wizards.com/en/articles/archive/mtgo-standings/pauper-challenge-2021-01-31', 'https://magic.wizards.com/en/articles/archive/mtgo-standings/modern-champ-qual-2021-01-31', 'https://magic.wizards.com/en/articles/archive/mtgo-standings/modern-challenge-2021-01-31', 'https://magic.wizards.com/en/articles/archive/mtgo-standings/legacy-challenge-2021-01-31', 'https://magic.wizards.com/en/articles/archive/mtgo-standings/vintage-super-qualifier-2021-01-25', 'https://magic.wizards.com/en/articles/archive/mtgo-standings/vintage-challenge-2021-01-25', 'https://magic.wizards.com/en/articles/archive/mtgo-standings/standard-challenge-2021-01-25', 'https://magic.wizards.com/en/articles/archive/mtgo-standings/pioneer-challenge-2021-01-25', 'https://magic.wizards.com/en/articles/archive/mtgo-standings/pauper-challenge-2021-01-25', 'https://magic.wizards.com/en/articles/archive/mtgo-standings/modern-challenge-2021-01-25', 'https://magic.wizards.com/en/articles/archive/mtgo-standings/legacy-challenge-2021-01-25', 'https://magic.wizards.com/en/articles/archive/mtgo-standings/vintage-challenge-2021-01-24', 'https://magic.wizards.com/en/articles/archive/mtgo-standings/standard-challenge-2021-01-24', 'https://magic.wizards.com/en/articles/archive/mtgo-standings/pioneer-challenge-2021-01-24', 'https://magic.wizards.com/en/articles/archive/mtgo-standings/pauper-super-qualifier-2021-01-24', 'https://magic.wizards.com/en/articles/archive/mtgo-standings/pauper-challenge-2021-01-24', 'https://magic.wizards.com/en/articles/archive/mtgo-standings/modern-super-qualifier-2021-01-24', 'https://magic.wizards.com/en/articles/archive/mtgo-standings/modern-challenge-2021-01-24', 'https://magic.wizards.com/en/articles/archive/mtgo-standings/legacy-challenge-2021-01-24', 'https://magic.wizards.com/en/articles/archive/mtgo-standings/legacy-super-qualifier-2021-01-22', 'https://magic.wizards.com/en/articles/archive/mtgo-standings/standard-challenge-2021-01-21', 'https://magic.wizards.com/en/articles/archive/mtgo-standings/pauper-challenge-2021-01-21', 'https://magic.wizards.com/en/articles/archive/mtgo-standings/legacy-challenge-2021-01-21', 'https://magic.wizards.com/en/articles/archive/mtgo-standings/pioneer-challenge-2021-01-21', 'https://magic.wizards.com/en/articles/archive/mtgo-standings/modern-challenge-2021-01-21', 'https://magic.wizards.com/en/articles/archive/mtgo-standings/vintage-challenge-2021-01-21', 'https://magic.wizards.com/en/articles/archive/mtgo-standings/standard-super-qualifier-2021-01-21', 'https://magic.wizards.com/en/articles/archive/mtgo-standings/pioneer-super-qualifier-2021-01-21', 'https://magic.wizards.com/en/articles/archive/mtgo-standings/modern-super-qualifier-2021-01-19', 'https://magic.wizards.com/en/articles/archive/mtgo-standings/vintage-challenge-2021-01-18', 'https://magic.wizards.com/en/articles/archive/mtgo-standings/standard-challenge-2021-01-18', 'https://magic.wizards.com/en/articles/archive/mtgo-standings/pioneer-showcase-challenge-2021-01-18', 'https://magic.wizards.com/en/articles/archive/mtgo-standings/pauper-challenge-2021-01-18', 'https://magic.wizards.com/en/articles/archive/mtgo-standings/modern-challenge-2021-01-18', 'https://magic.wizards.com/en/articles/archive/mtgo-standings/legacy-showcase-challenge-2021-01-18', 'https://magic.wizards.com/en/articles/archive/mtgo-standings/vintage-showcase-challenge-2021-01-17', 'https://magic.wizards.com/en/articles/archive/mtgo-standings/standard-showcase-challenge-2021-01-17', 'https://magic.wizards.com/en/articles/archive/mtgo-standings/pioneer-challenge-2021-01-17', 'https://magic.wizards.com/en/articles/archive/mtgo-standings/pauper-challenge-2021-01-17', 'https://magic.wizards.com/en/articles/archive/mtgo-standings/modern-showcase-challenge-2021-01-17', 'https://magic.wizards.com/en/articles/archive/mtgo-standings/legacy-challenge-2021-01-17', 'https://magic.wizards.com/en/articles/archive/mtgo-standings/sealed-znr-block-champ-qual-2021-01-10', 'https://magic.wizards.com/en/articles/archive/mtgo-standings/vintage-challenge-2021-01-10', 'https://magic.wizards.com/en/articles/archive/mtgo-standings/standard-challenge-2021-01-10', 'https://magic.wizards.com/en/articles/archive/mtgo-standings/pioneer-challenge-2021-01-10', 'https://magic.wizards.com/en/articles/archive/mtgo-standings/pauper-challenge-2021-01-10', 'https://magic.wizards.com/en/articles/archive/mtgo-standings/modern-challenge-2021-01-10', 'https://magic.wizards.com/en/articles/archive/mtgo-standings/legacy-challenge-2021-01-10', 'https://magic.wizards.com/en/articles/archive/mtgo-standings/sealed-znr-block-mocs-2021-01-04', 'https://magic.wizards.com/en/articles/archive/mtgo-standings/vintage-challenge-2021-01-04', 'https://magic.wizards.com/en/articles/archive/mtgo-standings/standard-challenge-2021-01-04', 'https://magic.wizards.com/en/articles/archive/mtgo-standings/pioneer-challenge-2021-01-04', 'https://magic.wizards.com/en/articles/archive/mtgo-standings/pauper-challenge-2021-01-04']\n"
     ]
    }
   ],
   "source": [
    "print(links)\n",
    "div_links = driver.find_elements(By.CLASS_NAME,\"article-item-extended\")"
   ]
  },
  {
   "cell_type": "code",
   "execution_count": null,
   "metadata": {},
   "outputs": [
    {
     "name": "stdout",
     "output_type": "stream",
     "text": [
      "947\n"
     ]
    }
   ],
   "source": [
    "list_links = [div.find_element(By.TAG_NAME,\"a\").get_attribute(\"href\") for div in div_links]\n",
    "print(len(list_links))"
   ]
  }
 ],
 "metadata": {
  "kernelspec": {
   "display_name": "Python 3.9.13 ('mtg-preds')",
   "language": "python",
   "name": "python3"
  },
  "language_info": {
   "codemirror_mode": {
    "name": "ipython",
    "version": 3
   },
   "file_extension": ".py",
   "mimetype": "text/x-python",
   "name": "python",
   "nbconvert_exporter": "python",
   "pygments_lexer": "ipython3",
   "version": "3.9.13"
  },
  "orig_nbformat": 4,
  "vscode": {
   "interpreter": {
    "hash": "2966523b1ac20c8f59c90892a1dda692b6bae5464a4a668e924e610757426e03"
   }
  }
 },
 "nbformat": 4,
 "nbformat_minor": 2
}
