{
 "cells": [
  {
   "cell_type": "code",
   "execution_count": 1,
   "metadata": {},
   "outputs": [],
   "source": [
    "%load_ext autoreload\n",
    "%autoreload 2"
   ]
  },
  {
   "cell_type": "code",
   "execution_count": 17,
   "metadata": {},
   "outputs": [
    {
     "name": "stderr",
     "output_type": "stream",
     "text": [
      "Some weights of the model checkpoint at google/bigbird-roberta-base were not used when initializing BigBirdForSequenceClassification: ['cls.predictions.decoder.weight', 'cls.seq_relationship.weight', 'cls.predictions.transform.LayerNorm.bias', 'cls.predictions.transform.dense.weight', 'cls.predictions.transform.LayerNorm.weight', 'cls.predictions.bias', 'cls.predictions.transform.dense.bias', 'cls.seq_relationship.bias', 'cls.predictions.decoder.bias']\n",
      "- This IS expected if you are initializing BigBirdForSequenceClassification from the checkpoint of a model trained on another task or with another architecture (e.g. initializing a BertForSequenceClassification model from a BertForPreTraining model).\n",
      "- This IS NOT expected if you are initializing BigBirdForSequenceClassification from the checkpoint of a model that you expect to be exactly identical (initializing a BertForSequenceClassification model from a BertForSequenceClassification model).\n",
      "Some weights of BigBirdForSequenceClassification were not initialized from the model checkpoint at google/bigbird-roberta-base and are newly initialized: ['classifier.dense.bias', 'classifier.out_proj.bias', 'classifier.dense.weight', 'classifier.out_proj.weight']\n",
      "You should probably TRAIN this model on a down-stream task to be able to use it for predictions and inference.\n"
     ]
    }
   ],
   "source": [
    "from transformers import BigBirdTokenizer, BigBirdForSequenceClassification\n",
    "transformer = BigBirdForSequenceClassification.from_pretrained(\n",
    "    \"google/bigbird-roberta-base\", num_labels=256\n",
    ")\n",
    "tokenizer = BigBirdTokenizer.from_pretrained(\"google/bigbird-roberta-base\")"
   ]
  },
  {
   "cell_type": "code",
   "execution_count": 9,
   "metadata": {},
   "outputs": [],
   "source": [
    "\n",
    "text =\"\"\"\n",
    "El tardofranquismo constituye la última etapa de la dictadura franquista que termina con la muerte de Francisco Franco el 20 de noviembre de 1975. Se suele situar su comienzo en octubre de 1969 cuando se forma el gobierno «monocolor» presidido de facto por el almirante Carrero Blanco, el principal consejero de Franco (tres meses antes el Caudillo había designado como su «sucesor a título de rey» al príncipe Juan Carlos de Borbón). Esta etapa también se identifica como la de la crisis final del franquismo, cuyo inicio algunos historiadores lo sitúan en el «juicio de Burgos» de diciembre de 1970. Solo unos meses después de la muerte de Franco Jorge de Esteban y Luis López Guerra ya constataban que «desde los inicios de la década de los 70 se hizo evidente para la gran mayoría de españoles que el país, tras una etapa de aparente calma, entraba de nuevo en una situación de crisis declarada, que se manifestaba sobre todo en dos datos: crecientes conflictos en el presente y aguda inseguridad cara al futuro».\n",
    "\n",
    "La historia política de esta última etapa de la dictadura estuvo marcada, según Javier Tusell, por la decadencia física y personal del general Franco, la desunión de la clase política del régimen, la parálisis provocada por la incertidumbre sobre el futuro y el crecimiento de la influencia social de la oposición antifranquista. Luis Suárez Fernández ha apuntado, refiriéndose al régimen franquista, que «entre 1969 y 1975 no había muchas ideas claras». \n",
    "\"\"\"\n",
    "\n",
    "input_tokenized = tokenizer(text+text+text, return_tensors=\"pt\")"
   ]
  },
  {
   "cell_type": "code",
   "execution_count": 12,
   "metadata": {},
   "outputs": [],
   "source": [
    "output = transformer(**input_tokenized)"
   ]
  },
  {
   "cell_type": "code",
   "execution_count": 15,
   "metadata": {},
   "outputs": [
    {
     "data": {
      "text/plain": [
       "torch.Size([1, 256])"
      ]
     },
     "execution_count": 15,
     "metadata": {},
     "output_type": "execute_result"
    }
   ],
   "source": [
    "output.logits.shape"
   ]
  }
 ],
 "metadata": {
  "kernelspec": {
   "display_name": "Python 3.9.13 ('mtg-preds')",
   "language": "python",
   "name": "python3"
  },
  "language_info": {
   "codemirror_mode": {
    "name": "ipython",
    "version": 3
   },
   "file_extension": ".py",
   "mimetype": "text/x-python",
   "name": "python",
   "nbconvert_exporter": "python",
   "pygments_lexer": "ipython3",
   "version": "3.9.13"
  },
  "orig_nbformat": 4,
  "vscode": {
   "interpreter": {
    "hash": "a1952cef62f67c70eb790ce4e747ed45dce45cf7603e92befcc612491748af46"
   }
  }
 },
 "nbformat": 4,
 "nbformat_minor": 2
}
