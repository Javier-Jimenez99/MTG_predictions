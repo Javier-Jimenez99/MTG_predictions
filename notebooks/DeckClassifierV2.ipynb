{
  "cells": [
    {
      "cell_type": "code",
      "execution_count": 1,
      "metadata": {},
      "outputs": [],
      "source": [
        "%load_ext autoreload\n",
        "%autoreload 2"
      ]
    },
    {
      "cell_type": "code",
      "execution_count": 2,
      "metadata": {
        "colab": {
          "base_uri": "https://localhost:8080/"
        },
        "id": "0Zcj3qsOcABC",
        "outputId": "dfaa84b1-b344-42af-dd83-d8f8a693648c"
      },
      "outputs": [],
      "source": [
        "from unidecode import unidecode\n",
        "import json\n",
        "import pandas as pd\n",
        "import random\n",
        "import torch \n",
        "from torch import nn \n",
        "from torch.utils.data import DataLoader, Dataset\n",
        "from sklearn.metrics import confusion_matrix, classification_report,ConfusionMatrixDisplay\n",
        "import numpy as np\n",
        "from sklearn.model_selection import train_test_split\n"
      ]
    },
    {
      "cell_type": "markdown",
      "metadata": {
        "id": "DCv8noLGmdaq"
      },
      "source": [
        "## Data"
      ]
    },
    {
      "cell_type": "markdown",
      "metadata": {
        "id": "auA2lk6omgC6"
      },
      "source": [
        "## Preprocessing"
      ]
    },
    {
      "cell_type": "code",
      "execution_count": 3,
      "metadata": {
        "id": "09FmrR9Vb2iB"
      },
      "outputs": [],
      "source": [
        "def simplify_text(name):\n",
        "    name = name.lower()\n",
        "    name = (\n",
        "        name.replace(\"-\", \" \")\n",
        "        .replace(\"'\", \"\")\n",
        "        #.replace(\",\", \"\")\n",
        "        #.replace(\".\", \"\")\n",
        "        .replace(\"?amp?\", \"\")\n",
        "        .replace(\"&\", \"\")\n",
        "        .replace(\"//\", \"/\")\n",
        "        .replace(\"/s+\", \" \")\n",
        "        .replace('\"',\"\")\n",
        "        .replace(\"—\",\" \")\n",
        "        .replace(\"_\",\"\")\n",
        "    )\n",
        "    name = unidecode(name)\n",
        "    name = name.strip()\n",
        "    return name\n",
        "\n",
        "def load_cards_df(data_path:str=\"data/AtomicCards.json\"):\n",
        "    all_cards_json = json.load(open(data_path, encoding=\"utf8\"))[\"data\"]\n",
        "\n",
        "    all_cards = []\n",
        "    for name,value in all_cards_json.items():\n",
        "        for i,card in enumerate(value):\n",
        "            new_name = name\n",
        "            if i != 0:\n",
        "                new_name = f\"{name}_{i}\"\n",
        "\n",
        "            parsed_card = card\n",
        "            parsed_card[\"name\"] = new_name\n",
        "\n",
        "            if \"faceName\" not in card.keys():\n",
        "                parsed_card[\"faceName\"] = new_name\n",
        "            \n",
        "            all_cards.append(parsed_card)\n",
        "\n",
        "    df = pd.DataFrame(all_cards)\n",
        "    df = df[pd.isna(df[\"isFunny\"])]\n",
        "    df = df.sort_values([\"type\",\"name\",\"faceName\"],ignore_index=True)\n",
        "\n",
        "    return df"
      ]
    },
    {
      "cell_type": "code",
      "execution_count": 4,
      "metadata": {
        "id": "vUmixhoCjwIz"
      },
      "outputs": [],
      "source": [
        "BASE_DIR = \"../\"\n",
        "DATA_DIR = BASE_DIR + \"data/\"\n",
        "\n",
        "cards_df=load_cards_df(DATA_DIR+\"AtomicCards.json\")\n",
        "#cards_df[\"complete_text\"] = cards_df.apply(preprocess_card,axis=1)\n",
        "cards_df[\"name_simplified\"] = cards_df[\"name\"].apply(simplify_text)\n",
        "cards_df[\"faceName_simplified\"] = cards_df[\"faceName\"].apply(simplify_text)\n",
        "\n",
        "json_decks = json.load(open(DATA_DIR+\"mtgtop8_decks.json\",\"r\"))\n",
        "decks_df = pd.DataFrame.from_dict(json_decks)\n",
        "\n",
        "def deck_length(deck_list):\n",
        "    size = 0\n",
        "\n",
        "    for card in deck_list:\n",
        "        size += card[\"quantity\"]\n",
        "\n",
        "    return size\n",
        "\n",
        "decks_df[\"main_deck_length\"] = decks_df[\"main_deck\"].apply(deck_length)\n",
        "decks_df[\"main_deck_length\"] = decks_df[\"main_deck\"].apply(deck_length)\n",
        "\n",
        "decks_df = decks_df[(decks_df[\"main_deck_length\"] > 30) & (decks_df[\"main_deck_length\"] < 100)]"
      ]
    },
    {
      "cell_type": "markdown",
      "metadata": {
        "id": "kjval0DImnFP"
      },
      "source": [
        "### Pytorch Dataset"
      ]
    },
    {
      "cell_type": "code",
      "execution_count": 5,
      "metadata": {
        "id": "-7gSGdmSaXRU"
      },
      "outputs": [],
      "source": [
        "class DeckDataset(Dataset):\n",
        "    def __init__(\n",
        "        self,\n",
        "        decks_df,\n",
        "        cards_df,\n",
        "        label_names = ['aggro','control','combo'],\n",
        "        shuffle_deck = False,\n",
        "        max_deck_size = 100\n",
        "    ):\n",
        "        self.decks_df = decks_df\n",
        "        self.cards_df = cards_df\n",
        "        self.shuffle_deck = shuffle_deck\n",
        "        self.max_deck_size = max_deck_size\n",
        "        self.label_names = label_names\n",
        "\n",
        "    def __len__(self):\n",
        "        return len(self.decks_df)\n",
        "\n",
        "    def __getitem__(self, index):\n",
        "        deck = self.decks_df.iloc[index]\n",
        "\n",
        "        cards_indices = []\n",
        "\n",
        "        for card in deck['main_deck']:\n",
        "            simplified_card_name = simplify_text(card[\"name\"])\n",
        "            quantity = int(card[\"quantity\"])\n",
        "\n",
        "            selected_card = self.cards_df[\n",
        "                (self.cards_df[\"faceName_simplified\"] == simplified_card_name)\n",
        "                | (self.cards_df[\"name_simplified\"] == simplified_card_name)\n",
        "            ]\n",
        "\n",
        "            if len(selected_card) == 0:\n",
        "                print(\n",
        "                    f\"WARNING: {card['name']} cant be found in the database. Will be specially encoded.\"\n",
        "                )\n",
        "\n",
        "                #cards_indices.extend([len(self.cards_df)]*quantity)\n",
        "\n",
        "            else:\n",
        "                for card_index in selected_card.index.tolist():\n",
        "                    cards_indices.extend([card_index]*quantity)\n",
        "\n",
        "        if self.shuffle_deck:\n",
        "            random.shuffle(cards_indices)\n",
        "\n",
        "        # Add 2 to reserve:\n",
        "        # - 0 to mask\n",
        "        # - 1 to CLS\n",
        "        cards_array = torch.tensor(cards_indices) + 2\n",
        "        cards_array = torch.concat((torch.tensor([1]),cards_array))\n",
        "        \n",
        "        mask = torch.zeros(self.max_deck_size)\n",
        "        mask[:len(cards_array)] = 1\n",
        "        if len(cards_array) >= self.max_deck_size:\n",
        "            cards_array = cards_array[:self.max_deck_size]\n",
        "        else:\n",
        "            padding = torch.zeros(self.max_deck_size - len(cards_array))\n",
        "            cards_array = torch.concat((cards_array,padding))\n",
        "\n",
        "        return {\n",
        "            \"label\": self.label_names.index(deck[\"archetype\"]),\n",
        "            \"cards\": cards_array,\n",
        "            \"mask\": mask,\n",
        "        }\n"
      ]
    },
    {
      "cell_type": "code",
      "execution_count": 6,
      "metadata": {
        "id": "Ig0mpxSSmZHY"
      },
      "outputs": [],
      "source": [
        "from imblearn.over_sampling import RandomOverSampler\n",
        "\n",
        "#decks_df = decks_df.sample(frac=0.1)\n",
        "deck_format = \"pioneer\"\n",
        "decks_df = decks_df[decks_df[\"format\"] == deck_format]\n",
        "cards_df = cards_df[cards_df[\"legalities\"].apply(lambda x: deck_format in x.keys())]\n",
        "\n",
        "# Oversample\n",
        "ros = RandomOverSampler(random_state=42)\n",
        "X = decks_df\n",
        "y = decks_df[\"archetype\"]\n",
        "X_res, y_res = ros.fit_resample(X, y)\n",
        "\n",
        "train_decks, test_decks = train_test_split(\n",
        "    X_res,\n",
        "    test_size = 0.3, \n",
        "    shuffle=True,\n",
        "    random_state = 42\n",
        ")\n",
        "\n",
        "train_dataset = DeckDataset(train_decks,cards_df,shuffle_deck=False)\n",
        "val_dataset = DeckDataset(test_decks,cards_df,shuffle_deck=False)"
      ]
    },
    {
      "cell_type": "code",
      "execution_count": 7,
      "metadata": {},
      "outputs": [
        {
          "ename": "SyntaxError",
          "evalue": "non-default argument follows default argument (1393782846.py, line 95)",
          "output_type": "error",
          "traceback": [
            "\u001b[1;36m  Cell \u001b[1;32mIn [7], line 95\u001b[1;36m\u001b[0m\n\u001b[1;33m    def main(num_cards=100, embedding_dim=512, num_filters=8, filter_sizes, num_classes):\u001b[0m\n\u001b[1;37m                                                                            ^\u001b[0m\n\u001b[1;31mSyntaxError\u001b[0m\u001b[1;31m:\u001b[0m non-default argument follows default argument\n"
          ]
        }
      ],
      "source": [
        "import torch\n",
        "import torch.nn as nn\n",
        "import torch.optim as optim\n",
        "import torch.utils.data as data\n",
        "import matplotlib.pyplot as plt\n",
        "from IPython.display import clear_output\n",
        "\n",
        "class MTGClassifier(nn.Module):\n",
        "    def __init__(self, num_cards, embedding_dim, num_filters, filter_sizes, num_classes):\n",
        "        super(MTGClassifier, self).__init__()\n",
        "        self.embedding = nn.Embedding(num_cards, embedding_dim)\n",
        "        self.convs = nn.ModuleList([\n",
        "            nn.Conv1d(in_channels=embedding_dim, out_channels=num_filters, kernel_size=fs)\n",
        "            for fs in filter_sizes\n",
        "        ])\n",
        "        self.fc = nn.Linear(len(filter_sizes) * num_filters, num_classes)\n",
        "        self.dropout = nn.Dropout(0.5)\n",
        "\n",
        "    def forward(self, x, masks):\n",
        "        x = self.embedding(x) * masks.unsqueeze(2)  # Apply masks to embeddings\n",
        "        x = x.permute(0, 2, 1)  # Permute for conv layers: (batch_size, embedding_dim, deck_size)\n",
        "        x = [F.relu(conv(x)) for conv in self.convs]  # Apply conv layers with ReLU\n",
        "        x = [F.max_pool1d(conv_output, conv_output.size(2)).squeeze(2) for conv_output in x]  # Max pooling\n",
        "        x = torch.cat(x, 1)  # Concatenate results\n",
        "        x = self.dropout(x)  # Apply dropout\n",
        "        x = self.fc(x)  # Apply fully connected layer\n",
        "        return F.softmax(x, dim=1)\n",
        "\n",
        "def train(model, dataloader, optimizer, criterion, device):\n",
        "    model.train()\n",
        "    running_loss = 0.0\n",
        "    correct = 0\n",
        "    total = 0\n",
        "    for decks, labels, masks in dataloader:\n",
        "        decks = decks.to(device)\n",
        "        labels = labels.to(device)\n",
        "        masks = masks.to(device)\n",
        "        \n",
        "        optimizer.zero_grad()\n",
        "        outputs = model(decks, masks)\n",
        "        loss = criterion(outputs, labels)\n",
        "        loss.backward()\n",
        "        optimizer.step()\n",
        "\n",
        "        running_loss += loss.item()\n",
        "        _, predicted = outputs.max(1)\n",
        "        total += labels.size(0)\n",
        "        correct += predicted.eq(labels).sum().item()\n",
        "        \n",
        "    return running_loss / len(dataloader), correct / total\n",
        "\n",
        "\n",
        "def evaluate(model, dataloader, criterion, device):\n",
        "    model.eval()\n",
        "    running_loss = 0.0\n",
        "    correct = 0\n",
        "    total = 0\n",
        "    with torch.no_grad():\n",
        "        for decks, labels, masks in dataloader:\n",
        "            decks = decks.to(device)\n",
        "            labels = labels.to(device)\n",
        "            masks = masks.to(device)\n",
        "            \n",
        "            outputs = model(decks, masks)\n",
        "            loss = criterion(outputs, labels)\n",
        "\n",
        "            running_loss += loss.item()\n",
        "            _, predicted = outputs.max(1)\n",
        "            total += labels.size(0)\n",
        "            correct += predicted.eq(labels).sum().item()            \n",
        "            correct += predicted.eq(labels).sum().item()\n",
        "            \n",
        "    return running_loss / len(dataloader), correct / total\n",
        "\n",
        "def visualize_progress(epochs, train_losses, val_losses, train_accuracies, val_accuracies):\n",
        "    clear_output(wait=True)\n",
        "    plt.figure(figsize=(18, 6))\n",
        "    \n",
        "    plt.subplot(1, 2, 1)\n",
        "    plt.plot(epochs, train_losses, label=\"Training loss\")\n",
        "    plt.plot(epochs, val_losses, label=\"Validation loss\")\n",
        "    plt.xlabel(\"Epochs\")\n",
        "    plt.ylabel(\"Loss\")\n",
        "    plt.legend()\n",
        "    \n",
        "    plt.subplot(1, 2, 2)\n",
        "    plt.plot(epochs, train_accuracies, label=\"Training accuracy\")\n",
        "    plt.plot(epochs, val_accuracies, label=\"Validation accuracy\")\n",
        "    plt.xlabel(\"Epochs\")\n",
        "    plt.ylabel(\"Accuracy\")\n",
        "    plt.legend()\n",
        "    \n",
        "    plt.show()\n",
        "\n",
        "def main(num_cards=100, embedding_dim=512, num_filters=8, filter_sizes, num_classes):    \n",
        "    train_dataloader = data.DataLoader(train_dataset, batch_size=32, shuffle=True)\n",
        "    val_dataloader = data.DataLoader(val_dataset, batch_size=32, shuffle=False)\n",
        "\n",
        "    # Set device\n",
        "    device = torch.device(\"cuda\" if torch.cuda.is_available() else \"cpu\")\n",
        "\n",
        "    # Initialize model, criterion, and optimizer\n",
        "    model = MTGClassifier(num_cards, embedding_dim, num_filters, filter_sizes, num_classes).to(device)\n",
        "    criterion = nn.CrossEntropyLoss()\n",
        "    optimizer = optim.Adam(model.parameters())\n",
        "\n",
        "    # Training loop\n",
        "    num_epochs = 50\n",
        "    early_stopping_patience = 5\n",
        "    epochs_since_best = 0\n",
        "    best_val_loss = float(\"inf\")\n",
        "    \n",
        "    epoch_list, train_losses, val_losses, train_accuracies, val_accuracies = [], [], [], [], []\n",
        "\n",
        "    for epoch in range(1, num_epochs + 1):\n",
        "        train_loss, train_accuracy = train(model, train_dataloader, optimizer, criterion, device)\n",
        "        val_loss, val_accuracy = evaluate(model, val_dataloader, criterion, device)\n",
        "        \n",
        "        epoch_list.append(epoch)\n",
        "        train_losses.append(train_loss)\n",
        "        val_losses.append(val_loss)\n",
        "        train_accuracies.append(train_accuracy)\n",
        "        val_accuracies.append(val_accuracy)\n",
        "        \n",
        "        visualize_progress(epoch_list, train_losses, val_losses, train_accuracies, val_accuracies)\n",
        "        \n",
        "        print(f\"Epoch: {epoch}/{num_epochs}, Train Loss: {train_loss:.4f}, Val Loss: {val_loss:.4f}, Train Acc: {train_accuracy:.4f}, Val Acc: {val_accuracy:.4f}\")\n",
        "        \n",
        "        # Early stopping\n",
        "        if val_loss < best_val_loss:\n",
        "            best_val_loss = val_loss\n",
        "            epochs_since_best = 0\n",
        "        else:\n",
        "            epochs_since_best += 1\n",
        "            if epochs_since_best >= early_stopping_patience:\n",
        "                print(\"EarlyStopped after {} epochs\".format(epoch))\n",
        "\n"
      ]
    },
    {
      "attachments": {},
      "cell_type": "markdown",
      "metadata": {},
      "source": [
        "# Old Version"
      ]
    },
    {
      "cell_type": "markdown",
      "metadata": {
        "id": "IVrwSdGwnoYW"
      },
      "source": [
        "## Model\n",
        "\n"
      ]
    },
    {
      "cell_type": "code",
      "execution_count": 8,
      "metadata": {
        "id": "mU8lo0Twnrty"
      },
      "outputs": [],
      "source": [
        "class DeckClassifier(nn.Module):\n",
        "    def __init__(\n",
        "        self,\n",
        "        hidden_size = 512, \n",
        "        output_size = 3, \n",
        "        num_heads=8, \n",
        "        num_layers=16,\n",
        "        sequence_length = 100,\n",
        "        dropout=0.3\n",
        "    ):\n",
        "        super(DeckClassifier,self).__init__()\n",
        "\n",
        "        self.embedding_layer = nn.Linear(1,hidden_size)\n",
        "        self.embedding_parameter = nn.Parameter(\n",
        "            torch.zeros(1, hidden_size)\n",
        "        )\n",
        "\n",
        "        encoder_layer = nn.TransformerEncoderLayer(\n",
        "            d_model=hidden_size, \n",
        "            nhead=num_heads, \n",
        "            dropout=dropout,\n",
        "            batch_first=True\n",
        "        )\n",
        "        self.transformer = nn.TransformerEncoder(encoder_layer, num_layers=num_layers)\n",
        "        self.output_layer = nn.Linear(hidden_size, output_size)\n",
        "\n",
        "    def forward(self,x,mask):\n",
        "        x = x.unsqueeze(-1)\n",
        "\n",
        "        # PASO 1: Aumento dimensionalidad y embedding\n",
        "        x = self.embedding_layer(x)\n",
        "        x = x + self.embedding_parameter\n",
        "\n",
        "        # PASO 2: Paso por encoding\n",
        "        x = self.transformer(x,src_key_padding_mask=mask.bool())\n",
        "\n",
        "        # PASO 3: Reducción dimensionalidad\n",
        "        #x = torch.flatten(x, start_dim=1)\n",
        "\n",
        "        #x = nn.functional.relu(self.fc1(x))\n",
        "\n",
        "        # PASO 4: Capa de salida\n",
        "        x = nn.functional.softmax(self.output_layer(x[:,0,:]),dim=1)\n",
        "\n",
        "        return x"
      ]
    },
    {
      "cell_type": "markdown",
      "metadata": {
        "id": "FV3UmCa6tK6h"
      },
      "source": [
        "## Training"
      ]
    },
    {
      "cell_type": "code",
      "execution_count": 9,
      "metadata": {
        "colab": {
          "background_save": true,
          "base_uri": "https://localhost:8080/",
          "height": 589
        },
        "id": "Ev2Xidk9tKXW",
        "outputId": "a9af5fc8-18a8-4c58-f725-e2dc8307f53e"
      },
      "outputs": [
        {
          "ename": "NameError",
          "evalue": "name 'test_dataset' is not defined",
          "output_type": "error",
          "traceback": [
            "\u001b[1;31m---------------------------------------------------------------------------\u001b[0m",
            "\u001b[1;31mNameError\u001b[0m                                 Traceback (most recent call last)",
            "\u001b[1;32mc:\\Users\\javij\\OneDrive\\Escritorio\\Proyectos\\MTG_predictions\\notebooks\\DeckClassifierV2.ipynb Celda 15\u001b[0m in \u001b[0;36m1\n\u001b[0;32m    <a href='vscode-notebook-cell:/c%3A/Users/javij/OneDrive/Escritorio/Proyectos/MTG_predictions/notebooks/DeckClassifierV2.ipynb#X20sZmlsZQ%3D%3D?line=156'>157</a>\u001b[0m     \u001b[39mreturn\u001b[39;00m model\n\u001b[0;32m    <a href='vscode-notebook-cell:/c%3A/Users/javij/OneDrive/Escritorio/Proyectos/MTG_predictions/notebooks/DeckClassifierV2.ipynb#X20sZmlsZQ%3D%3D?line=158'>159</a>\u001b[0m model \u001b[39m=\u001b[39m DeckClassifier(num_heads\u001b[39m=\u001b[39m\u001b[39m16\u001b[39m, num_layers\u001b[39m=\u001b[39m\u001b[39m16\u001b[39m, output_size\u001b[39m=\u001b[39m\u001b[39m3\u001b[39m, hidden_size\u001b[39m=\u001b[39m\u001b[39m512\u001b[39m, dropout\u001b[39m=\u001b[39m\u001b[39m0.1\u001b[39m)\n\u001b[1;32m--> <a href='vscode-notebook-cell:/c%3A/Users/javij/OneDrive/Escritorio/Proyectos/MTG_predictions/notebooks/DeckClassifierV2.ipynb#X20sZmlsZQ%3D%3D?line=159'>160</a>\u001b[0m model \u001b[39m=\u001b[39m train(train_dataset, test_dataset, model,use_cuda\u001b[39m=\u001b[39m\u001b[39mTrue\u001b[39;00m, batch_size\u001b[39m=\u001b[39m\u001b[39m32\u001b[39m)\n",
            "\u001b[1;31mNameError\u001b[0m: name 'test_dataset' is not defined"
          ]
        }
      ],
      "source": [
        "import torch.optim as optim\n",
        "from matplotlib import pyplot as plt\n",
        "from IPython import display\n",
        "import time\n",
        "from sklearn.metrics import (accuracy_score, f1_score, precision_score, recall_score)\n",
        "\n",
        "def update_plot(fig, axs, epoch, metrics, display_bool=True):\n",
        "    fig.suptitle(f\"EPOCH {epoch + 1}\")\n",
        "\n",
        "    n = 10\n",
        "\n",
        "    for i, m_k in enumerate(metrics.keys()):\n",
        "        axs[i].clear()\n",
        "        for k, v in metrics[m_k].items():\n",
        "            if k == \"Train\":\n",
        "                color = \"tab:blue\"\n",
        "            elif k == \"Test\":\n",
        "                color = \"tab:orange\"\n",
        "            else:\n",
        "                color = \"tab:green\"\n",
        "\n",
        "            if len(metrics[m_k]) > 1:\n",
        "                #axs[i].plot(moving_average(v, size=n), label=k, color=color)\n",
        "                axs[i].plot(v, label=k, color=color)\n",
        "            else:\n",
        "                axs[i].plot(v, color=color)\n",
        "\n",
        "        axs[i].set_xlabel(\"Epoch\")\n",
        "        axs[i].set_title(m_k)\n",
        "\n",
        "def train(\n",
        "    train_dataset,\n",
        "    test_dataset,\n",
        "    model,\n",
        "    lr=0.01,\n",
        "    batch_size=32,\n",
        "    num_epochs=100,\n",
        "    use_cuda=True,\n",
        "    weight_decay=0.01,\n",
        "):\n",
        "    device = torch.device(\"cuda:0\" if use_cuda and torch.cuda.is_available() else \"cpu\")\n",
        "    print(f\"Device used: {device}\")\n",
        "\n",
        "    train_dataloader = DataLoader(train_dataset, batch_size=batch_size, shuffle=True)\n",
        "    test_dataloader = DataLoader(test_dataset, batch_size=batch_size, shuffle=True)\n",
        "\n",
        "    model = model.to(device)\n",
        "    criterion = nn.CrossEntropyLoss()\n",
        "    optimizer = optim.AdamW(model.parameters(), lr=lr,weight_decay=weight_decay)\n",
        "    scheduler = torch.optim.lr_scheduler.OneCycleLR(\n",
        "        optimizer, max_lr=lr, steps_per_epoch=1, epochs=num_epochs\n",
        "    )\n",
        "\n",
        "    metrics = {\n",
        "        \"Loss\": {\"Train\": [], \"Test\": []},\n",
        "        \"Accuracy\": {\"Train\": [], \"Test\": []},\n",
        "        \"F1\": {\"Train\": [], \"Test\": []},\n",
        "        \"Precision\": {\"Train\": [], \"Test\": []},\n",
        "        \"Recall\": {\"Train\": [], \"Test\": []},\n",
        "        \"LR\": {\"LR\": []},\n",
        "    }\n",
        "\n",
        "\n",
        "    fig,ax = plt.subplots(3,2,figsize=(20,10),tight_layout=True,sharex=True)\n",
        "    ax = ax.flatten()\n",
        "    \n",
        "    for epoch in range(num_epochs):\n",
        "        model.train() # set the model to training mode\n",
        "\n",
        "        train_loss = 0\n",
        "        train_acc = 0\n",
        "        train_f1 = 0\n",
        "        train_precision = 0\n",
        "        train_recall = 0\n",
        "\n",
        "        for data in train_dataloader:\n",
        "            inputs = data['cards'].to(device)\n",
        "            labels = data[\"label\"].to(device)\n",
        "            masks = data[\"mask\"].to(device)\n",
        "            optimizer.zero_grad()\n",
        "            outputs = model(inputs,masks)\n",
        "            loss = criterion(outputs, labels)\n",
        "            print(outputs,labels)\n",
        "            loss.backward()\n",
        "            optimizer.step()\n",
        "\n",
        "            y_pred = outputs.argmax(dim=1).cpu()\n",
        "            y_true = labels.cpu()\n",
        "\n",
        "            train_loss += loss.item()\n",
        "            train_acc += accuracy_score(y_true, y_pred)\n",
        "            train_f1 += f1_score(y_true, y_pred, average=\"weighted\", labels=np.unique(y_pred))\n",
        "            train_precision += precision_score(y_true, y_pred, average=\"weighted\", labels=np.unique(y_pred))\n",
        "            train_recall += recall_score(y_true, y_pred, average=\"weighted\", labels=np.unique(y_pred))\n",
        "\n",
        "        train_loss /= len(train_dataloader)\n",
        "        train_acc /= len(train_dataloader)\n",
        "        train_f1 /= len(train_dataloader)\n",
        "        train_precision /= len(train_dataloader)\n",
        "        train_recall /= len(train_dataloader)\n",
        "\n",
        "        metrics[\"Loss\"][\"Train\"].append(train_loss)\n",
        "        metrics[\"Accuracy\"][\"Train\"].append(train_acc)\n",
        "        metrics[\"F1\"][\"Train\"].append(train_f1)\n",
        "        metrics[\"Precision\"][\"Train\"].append(train_precision)\n",
        "        metrics[\"Recall\"][\"Train\"].append(train_recall)\n",
        "        metrics[\"LR\"][\"LR\"].append(scheduler.get_last_lr()[0])           \n",
        "\n",
        "        scheduler.step()\n",
        "\n",
        "        model.eval()\n",
        "\n",
        "        test_loss = 0\n",
        "        test_acc = 0\n",
        "        test_f1 = 0\n",
        "        test_precision = 0\n",
        "        test_recall = 0\n",
        "\n",
        "        model.eval() # set the model to evaluation mode\n",
        "        with torch.no_grad():\n",
        "            for data in test_dataloader:\n",
        "                inputs = data['cards'].to(device)\n",
        "                labels = data[\"label\"].to(device)\n",
        "                masks = data[\"mask\"].to(device)\n",
        "                outputs = model(inputs,masks)\n",
        "\n",
        "                loss = criterion(outputs, labels)\n",
        "                print(outputs,labels)\n",
        "\n",
        "                y_pred = outputs.argmax(dim=1).cpu()\n",
        "                y_true = labels.cpu()\n",
        "\n",
        "                test_loss += loss.item()\n",
        "                test_acc += accuracy_score(y_true, y_pred)\n",
        "                test_f1 += f1_score(y_true, y_pred, average=\"weighted\", labels=np.unique(y_pred))\n",
        "                test_precision += precision_score(y_true, y_pred, average=\"weighted\", labels=np.unique(y_pred))\n",
        "                test_recall += recall_score(y_true, y_pred, average=\"weighted\", labels=np.unique(y_pred))\n",
        "\n",
        "        test_loss /= len(test_dataloader)\n",
        "        test_acc /= len(test_dataloader)\n",
        "        test_f1 /= len(test_dataloader)\n",
        "        test_precision /= len(test_dataloader)\n",
        "        test_recall /= len(test_dataloader)\n",
        "\n",
        "        metrics[\"Loss\"][\"Test\"].append(test_loss)\n",
        "        metrics[\"Accuracy\"][\"Test\"].append(test_acc)\n",
        "        metrics[\"F1\"][\"Test\"].append(test_f1)\n",
        "        metrics[\"Precision\"][\"Test\"].append(test_precision)\n",
        "        metrics[\"Recall\"][\"Test\"].append(test_recall)\n",
        "\n",
        "        update_plot(fig, ax, epoch, metrics)\n",
        "        display.clear_output(wait=True)\n",
        "        display.display(fig)\n",
        "        time.sleep(0.05)\n",
        "\n",
        "\n",
        "    return model\n",
        "\n",
        "model = DeckClassifier(num_heads=16, num_layers=16, output_size=3, hidden_size=512, dropout=0.1)\n",
        "model = train(train_dataset, test_dataset, model,use_cuda=True, batch_size=32)"
      ]
    },
    {
      "cell_type": "code",
      "execution_count": null,
      "metadata": {
        "id": "3w5qkjmJ9NkN"
      },
      "outputs": [],
      "source": [
        "device = torch.device(\"cuda:0\" if True and torch.cuda.is_available() else \"cpu\")\n",
        "model = DeckClassifier(num_heads=2).to(device)\n"
      ]
    },
    {
      "cell_type": "markdown",
      "metadata": {
        "id": "YG1sLnJ5tZtv"
      },
      "source": [
        "## Test model"
      ]
    },
    {
      "cell_type": "code",
      "execution_count": null,
      "metadata": {
        "colab": {
          "base_uri": "https://localhost:8080/",
          "height": 381
        },
        "id": "NVFgbsLztZQb",
        "outputId": "113c1892-b1ba-4100-816a-a65c6a473ef0"
      },
      "outputs": [
        {
          "ename": "NameError",
          "evalue": "name 'train_dataloader' is not defined",
          "output_type": "error",
          "traceback": [
            "\u001b[1;31m---------------------------------------------------------------------------\u001b[0m",
            "\u001b[1;31mNameError\u001b[0m                                 Traceback (most recent call last)",
            "\u001b[1;32mc:\\Users\\javij\\OneDrive\\Escritorio\\Proyectos\\MTG_predictions\\notebooks\\DeckClassifierV2.ipynb Celda 16\u001b[0m in \u001b[0;36m5\n\u001b[0;32m      <a href='vscode-notebook-cell:/c%3A/Users/javij/OneDrive/Escritorio/Proyectos/MTG_predictions/notebooks/DeckClassifierV2.ipynb#X21sZmlsZQ%3D%3D?line=2'>3</a>\u001b[0m y_pred_train \u001b[39m=\u001b[39m []\n\u001b[0;32m      <a href='vscode-notebook-cell:/c%3A/Users/javij/OneDrive/Escritorio/Proyectos/MTG_predictions/notebooks/DeckClassifierV2.ipynb#X21sZmlsZQ%3D%3D?line=3'>4</a>\u001b[0m \u001b[39mwith\u001b[39;00m torch\u001b[39m.\u001b[39mno_grad():\n\u001b[1;32m----> <a href='vscode-notebook-cell:/c%3A/Users/javij/OneDrive/Escritorio/Proyectos/MTG_predictions/notebooks/DeckClassifierV2.ipynb#X21sZmlsZQ%3D%3D?line=4'>5</a>\u001b[0m     \u001b[39mfor\u001b[39;00m data \u001b[39min\u001b[39;00m train_dataloader:\n\u001b[0;32m      <a href='vscode-notebook-cell:/c%3A/Users/javij/OneDrive/Escritorio/Proyectos/MTG_predictions/notebooks/DeckClassifierV2.ipynb#X21sZmlsZQ%3D%3D?line=5'>6</a>\u001b[0m         inputs \u001b[39m=\u001b[39m data[\u001b[39m'\u001b[39m\u001b[39mcards\u001b[39m\u001b[39m'\u001b[39m]\u001b[39m.\u001b[39mto(device)\n\u001b[0;32m      <a href='vscode-notebook-cell:/c%3A/Users/javij/OneDrive/Escritorio/Proyectos/MTG_predictions/notebooks/DeckClassifierV2.ipynb#X21sZmlsZQ%3D%3D?line=6'>7</a>\u001b[0m         labels \u001b[39m=\u001b[39m data[\u001b[39m\"\u001b[39m\u001b[39mlabel\u001b[39m\u001b[39m\"\u001b[39m]\u001b[39m.\u001b[39mto(device)\n",
            "\u001b[1;31mNameError\u001b[0m: name 'train_dataloader' is not defined"
          ]
        }
      ],
      "source": [
        "model.eval() # set the model to evaluation mode\n",
        "y_true_train = []\n",
        "y_pred_train = []\n",
        "with torch.no_grad():\n",
        "    for data in train_dataloader:\n",
        "        inputs = data['cards'].to(device)\n",
        "        labels = data[\"label\"].to(device)\n",
        "        outputs = model(inputs) # forward pass\n",
        "        _, predicted = torch.max(outputs.data, 1) # get predicted class\n",
        "        y_true_train += labels.tolist()\n",
        "        y_pred_train += predicted.tolist()\n",
        "train_confusion_matrix = confusion_matrix(y_true_train, y_pred_train)\n",
        "train_classification_report = classification_report(y_true_train, y_pred_train)\n",
        "\n",
        "y_true_test = []\n",
        "y_pred_test = []\n",
        "with torch.no_grad():\n",
        "    for data in test_dataloader:\n",
        "        inputs = data['cards'].to(device)\n",
        "        labels = data[\"label\"].to(device)\n",
        "        outputs = model(inputs) # forward pass\n",
        "        _, predicted = torch.max(outputs.data, 1) # get predicted class\n",
        "        y_true_test += labels.tolist()\n",
        "        y_pred_test += predicted.tolist()\n",
        "test_confusion_matrix = confusion_matrix(y_true_test, y_pred_test)\n",
        "test_classification_report = classification_report(y_true_test, y_pred_test)\n",
        "\n",
        "print(\"Training set metrics:\")\n",
        "print(train_confusion_matrix)\n",
        "print(train_classification_report)\n",
        "\n",
        "print(\"Test set metrics:\")\n",
        "print(test_confusion_matrix)\n",
        "print(test_classification_report)\n"
      ]
    },
    {
      "cell_type": "code",
      "execution_count": null,
      "metadata": {
        "colab": {
          "base_uri": "https://localhost:8080/"
        },
        "id": "5bk6znP493UR",
        "outputId": "d846ae7b-9cb8-4225-f87d-c45d5907fe08"
      },
      "outputs": [
        {
          "name": "stdout",
          "output_type": "stream",
          "text": [
            "WARNING: Luminarch Ascension cant be found in the database. Will be specially encoded.\n"
          ]
        }
      ],
      "source": [
        "y_true_test = []\n",
        "y_pred_test = []\n",
        "with torch.no_grad():\n",
        "    for data in test_dataloader:\n",
        "        inputs = data['cards'].to(device)\n",
        "        labels = data[\"label\"].to(device)\n",
        "        outputs = model(inputs) # forward pass\n",
        "        _, predicted = torch.max(outputs.data, 1) # get predicted class\n",
        "        y_true_test += labels.tolist()\n",
        "        y_pred_test += predicted.tolist()\n",
        "test_confusion_matrix = confusion_matrix(y_true_test, y_pred_test)\n",
        "test_classification_report = classification_report(y_true_test, y_pred_test)"
      ]
    },
    {
      "cell_type": "code",
      "execution_count": null,
      "metadata": {
        "colab": {
          "base_uri": "https://localhost:8080/",
          "height": 470
        },
        "id": "24fTjE3B-rUE",
        "outputId": "493ff33e-ff1f-483d-ad49-6cd7985d386b"
      },
      "outputs": [
        {
          "name": "stdout",
          "output_type": "stream",
          "text": [
            "              precision    recall  f1-score   support\n",
            "\n",
            "           0       0.53      0.63      0.58       418\n",
            "           1       0.32      0.25      0.28       215\n",
            "           2       0.03      0.02      0.02       111\n",
            "\n",
            "    accuracy                           0.43       744\n",
            "   macro avg       0.29      0.30      0.29       744\n",
            "weighted avg       0.39      0.43      0.41       744\n",
            "\n"
          ]
        },
        {
          "data": {
            "text/plain": [
              "<sklearn.metrics._plot.confusion_matrix.ConfusionMatrixDisplay at 0x2066e7da2b0>"
            ]
          },
          "execution_count": 62,
          "metadata": {},
          "output_type": "execute_result"
        },
        {
          "data": {
            "image/png": "[encoded data removed]",
            "text/plain": [
              "<Figure size 640x480 with 2 Axes>"
            ]
          },
          "metadata": {},
          "output_type": "display_data"
        }
      ],
      "source": [
        "print(test_classification_report)\n",
        "disp = ConfusionMatrixDisplay(test_confusion_matrix)\n",
        "disp.plot()"
      ]
    }
  ],
  "metadata": {
    "accelerator": "GPU",
    "colab": {
      "provenance": []
    },
    "gpuClass": "standard",
    "kernelspec": {
      "display_name": "Python 3",
      "name": "python3"
    },
    "language_info": {
      "codemirror_mode": {
        "name": "ipython",
        "version": 3
      },
      "file_extension": ".py",
      "mimetype": "text/x-python",
      "name": "python",
      "nbconvert_exporter": "python",
      "pygments_lexer": "ipython3",
      "version": "3.9.13"
    }
  },
  "nbformat": 4,
  "nbformat_minor": 0
}
