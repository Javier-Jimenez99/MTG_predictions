{
 "cells": [
  {
   "cell_type": "code",
   "execution_count": 1,
   "metadata": {},
   "outputs": [
    {
     "name": "stderr",
     "output_type": "stream",
     "text": [
      "/data2/users/javierj/miniconda3/envs/mtg-preds/lib/python3.8/site-packages/tqdm/auto.py:21: TqdmWarning: IProgress not found. Please update jupyter and ipywidgets. See https://ipywidgets.readthedocs.io/en/stable/user_install.html\n",
      "  from .autonotebook import tqdm as notebook_tqdm\n"
     ]
    }
   ],
   "source": [
    "from MTGpred.model.dataset import DecksDataset\n",
    "from MTGpred.utils.mtgjson import load_cards_df\n",
    "import json\n",
    "from sklearn.model_selection import train_test_split\n",
    "\n",
    "with open(\"../data/mtgtop8_decks.json\", \"r\") as f:\n",
    "    decks_json = json.load(f)\n",
    "\n",
    "cards_df = load_cards_df(data_path=\"../data/AtomicCards.json\")\n",
    "\n",
    "dataset = DecksDataset(\n",
    "    cards_df,\n",
    "    decks_json,\n",
    "    model_name=\"allenai/longformer-base-4096\",\n",
    "    cased=False,\n",
    "    join_tokens=True,\n",
    "    max_length=4096,\n",
    ")"
   ]
  },
  {
   "cell_type": "code",
   "execution_count": 6,
   "metadata": {},
   "outputs": [
    {
     "name": "stdout",
     "output_type": "stream",
     "text": [
      "WARNING: Unknown Card cant be found in the database. Will be removed from the deck.\n",
      "WARNING: Unknown Card cant be found in the database. Will be removed from the deck.\n",
      "WARNING: Unknown Card cant be found in the database. Will be removed from the deck.\n",
      "WARNING: Unknown Card cant be found in the database. Will be removed from the deck.\n",
      "WARNING: Unknown Card cant be found in the database. Will be removed from the deck.\n",
      "WARNING: Unknown Card cant be found in the database. Will be removed from the deck.\n",
      "WARNING: Unknown Card cant be found in the database. Will be removed from the deck.\n",
      "WARNING: Unknown Card cant be found in the database. Will be removed from the deck.\n",
      "WARNING: Unknown Card cant be found in the database. Will be removed from the deck.\n",
      "WARNING: Unknown Card cant be found in the database. Will be removed from the deck.\n",
      "WARNING: Unknown Card cant be found in the database. Will be removed from the deck.\n",
      "WARNING: Unknown Card cant be found in the database. Will be removed from the deck.\n",
      "WARNING: Unknown Card cant be found in the database. Will be removed from the deck.\n",
      "WARNING: Unknown Card cant be found in the database. Will be removed from the deck.\n",
      "WARNING: Unknown Card cant be found in the database. Will be removed from the deck.\n",
      "WARNING: Unknown Card cant be found in the database. Will be removed from the deck.\n",
      "WARNING: Unknown Card cant be found in the database. Will be removed from the deck.\n",
      "WARNING: Unknown Card cant be found in the database. Will be removed from the deck.\n",
      "WARNING: Unknown Card cant be found in the database. Will be removed from the deck.\n",
      "WARNING: Unknown Card cant be found in the database. Will be removed from the deck.\n",
      "WARNING: Unknown Card cant be found in the database. Will be removed from the deck.\n",
      "WARNING: Unknown Card cant be found in the database. Will be removed from the deck.\n",
      "WARNING: Unknown Card cant be found in the database. Will be removed from the deck.\n",
      "WARNING: Unknown Card cant be found in the database. Will be removed from the deck.\n",
      "WARNING: Unknown Card cant be found in the database. Will be removed from the deck.\n",
      "WARNING: Unknown Card cant be found in the database. Will be removed from the deck.\n",
      "WARNING: Unknown Card cant be found in the database. Will be removed from the deck.\n",
      "WARNING: Unknown Card cant be found in the database. Will be removed from the deck.\n",
      "WARNING: Unknown Card cant be found in the database. Will be removed from the deck.\n",
      "WARNING: Unknown Card cant be found in the database. Will be removed from the deck.\n",
      "WARNING: Unknown Card cant be found in the database. Will be removed from the deck.\n",
      "WARNING: Unknown Card cant be found in the database. Will be removed from the deck.\n",
      "WARNING: Unknown Card cant be found in the database. Will be removed from the deck.\n",
      "WARNING: Unknown Card cant be found in the database. Will be removed from the deck.\n",
      "WARNING: Unknown Card cant be found in the database. Will be removed from the deck.\n",
      "WARNING: Unknown Card cant be found in the database. Will be removed from the deck.\n",
      "WARNING: Unknown Card cant be found in the database. Will be removed from the deck.\n",
      "WARNING: Unknown Card cant be found in the database. Will be removed from the deck.\n",
      "WARNING: Unknown Card cant be found in the database. Will be removed from the deck.\n",
      "WARNING: Unknown Card cant be found in the database. Will be removed from the deck.\n",
      "WARNING: Unknown Card cant be found in the database. Will be removed from the deck.\n",
      "WARNING: Unknown Card cant be found in the database. Will be removed from the deck.\n",
      "WARNING: Unknown Card cant be found in the database. Will be removed from the deck.\n",
      "WARNING: Unknown Card cant be found in the database. Will be removed from the deck.\n",
      "WARNING: Unknown Card cant be found in the database. Will be removed from the deck.\n",
      "WARNING: Unknown Card cant be found in the database. Will be removed from the deck.\n",
      "WARNING: Unknown Card cant be found in the database. Will be removed from the deck.\n",
      "WARNING: Unknown Card cant be found in the database. Will be removed from the deck.\n",
      "WARNING: Unknown Card cant be found in the database. Will be removed from the deck.\n",
      "WARNING: Unknown Card cant be found in the database. Will be removed from the deck.\n",
      "WARNING: Unknown Card cant be found in the database. Will be removed from the deck.\n",
      "WARNING: Unknown Card cant be found in the database. Will be removed from the deck.\n",
      "WARNING: Unknown Card cant be found in the database. Will be removed from the deck.\n",
      "WARNING: Unknown Card cant be found in the database. Will be removed from the deck.\n",
      "WARNING: Unknown Card cant be found in the database. Will be removed from the deck.\n",
      "WARNING: Unknown Card cant be found in the database. Will be removed from the deck.\n",
      "WARNING: Unknown Card cant be found in the database. Will be removed from the deck.\n",
      "WARNING: Unknown Card cant be found in the database. Will be removed from the deck.\n",
      "WARNING: Unknown Card cant be found in the database. Will be removed from the deck.\n",
      "WARNING: Unknown Card cant be found in the database. Will be removed from the deck.\n",
      "WARNING: Unknown Card cant be found in the database. Will be removed from the deck.\n",
      "WARNING: Unknown Card cant be found in the database. Will be removed from the deck.\n",
      "WARNING: Unknown Card cant be found in the database. Will be removed from the deck.\n",
      "WARNING: Unknown Card cant be found in the database. Will be removed from the deck.\n",
      "WARNING: Unknown Card cant be found in the database. Will be removed from the deck.\n",
      "WARNING: Unknown Card cant be found in the database. Will be removed from the deck.\n",
      "WARNING: Unknown Card cant be found in the database. Will be removed from the deck.\n",
      "WARNING: Unknown Card cant be found in the database. Will be removed from the deck.\n",
      "WARNING: Unknown Card cant be found in the database. Will be removed from the deck.\n",
      "WARNING: Unknown Card cant be found in the database. Will be removed from the deck.\n",
      "WARNING: Unknown Card cant be found in the database. Will be removed from the deck.\n",
      "WARNING: Unknown Card cant be found in the database. Will be removed from the deck.\n",
      "WARNING: Unknown Card cant be found in the database. Will be removed from the deck.\n",
      "WARNING: Unknown Card cant be found in the database. Will be removed from the deck.\n",
      "WARNING: Unknown Card cant be found in the database. Will be removed from the deck.\n",
      "WARNING: Unknown Card cant be found in the database. Will be removed from the deck.\n",
      "WARNING: Unknown Card cant be found in the database. Will be removed from the deck.\n",
      "WARNING: Unknown Card cant be found in the database. Will be removed from the deck.\n",
      "WARNING: Unknown Card cant be found in the database. Will be removed from the deck.\n",
      "WARNING: Unknown Card cant be found in the database. Will be removed from the deck.\n",
      "WARNING: Unknown Card cant be found in the database. Will be removed from the deck.\n",
      "WARNING: Unknown Card cant be found in the database. Will be removed from the deck.\n",
      "WARNING: Unknown Card cant be found in the database. Will be removed from the deck.\n",
      "WARNING: Unknown Card cant be found in the database. Will be removed from the deck.\n",
      "WARNING: Minsc & Boo, Timeless Heroes (Rebalanced) cant be found in the database. Will be removed from the deck.\n",
      "WARNING: Unknown Card cant be found in the database. Will be removed from the deck.\n",
      "WARNING: Unknown Card cant be found in the database. Will be removed from the deck.\n",
      "WARNING: Unknown Card cant be found in the database. Will be removed from the deck.\n",
      "WARNING: Unknown Card cant be found in the database. Will be removed from the deck.\n",
      "WARNING: Unknown Card cant be found in the database. Will be removed from the deck.\n",
      "WARNING: Unknown Card cant be found in the database. Will be removed from the deck.\n",
      "WARNING: Unknown Card cant be found in the database. Will be removed from the deck.\n",
      "WARNING: Unknown Card cant be found in the database. Will be removed from the deck.\n",
      "Max length: 4096\n",
      "Min length: 4\n",
      "Mean length: 1226.8201742610988\n"
     ]
    }
   ],
   "source": [
    "deck_lengths = [sum(d[\"attention_mask\"]) for d in dataset]\n",
    "\n",
    "max_length = max(deck_lengths)\n",
    "min_length = min(deck_lengths)\n",
    "mean_length = sum(deck_lengths) / len(deck_lengths)\n",
    "\n",
    "print(f\"Max length: {max_length}\")\n",
    "print(f\"Min length: {min_length}\")\n",
    "print(f\"Mean length: {mean_length}\")"
   ]
  },
  {
   "cell_type": "code",
   "execution_count": 7,
   "metadata": {},
   "outputs": [
    {
     "data": {
      "text/plain": [
       "(array([5.000e+01, 0.000e+00, 0.000e+00, 0.000e+00, 0.000e+00, 0.000e+00,\n",
       "        0.000e+00, 0.000e+00, 4.000e+00, 1.100e+01, 7.000e+00, 2.200e+01,\n",
       "        3.100e+01, 6.300e+01, 1.080e+02, 2.530e+02, 3.830e+02, 5.590e+02,\n",
       "        7.380e+02, 9.750e+02, 1.237e+03, 1.378e+03, 1.628e+03, 1.923e+03,\n",
       "        2.033e+03, 2.193e+03, 2.368e+03, 2.325e+03, 2.422e+03, 2.231e+03,\n",
       "        2.138e+03, 1.877e+03, 1.740e+03, 1.578e+03, 1.379e+03, 1.293e+03,\n",
       "        1.132e+03, 1.001e+03, 8.890e+02, 7.810e+02, 6.640e+02, 5.430e+02,\n",
       "        4.620e+02, 3.790e+02, 3.040e+02, 2.690e+02, 2.340e+02, 2.100e+02,\n",
       "        2.200e+02, 1.610e+02, 1.570e+02, 1.180e+02, 9.300e+01, 8.700e+01,\n",
       "        6.400e+01, 6.100e+01, 5.100e+01, 2.800e+01, 1.900e+01, 1.100e+01,\n",
       "        9.000e+00, 9.000e+00, 1.200e+01, 1.100e+01, 5.000e+00, 3.000e+00,\n",
       "        6.000e+00, 3.000e+00, 3.000e+00, 1.000e+00, 5.000e+00, 4.000e+00,\n",
       "        0.000e+00, 1.000e+00, 1.000e+00, 4.000e+00, 1.000e+00, 1.000e+00,\n",
       "        2.000e+00, 0.000e+00, 3.000e+00, 2.000e+00, 0.000e+00, 0.000e+00,\n",
       "        0.000e+00, 0.000e+00, 0.000e+00, 0.000e+00, 1.000e+00, 0.000e+00,\n",
       "        0.000e+00, 0.000e+00, 0.000e+00, 0.000e+00, 0.000e+00, 0.000e+00,\n",
       "        0.000e+00, 0.000e+00, 0.000e+00, 1.000e+00]),\n",
       " array([4.00000e+00, 4.49200e+01, 8.58400e+01, 1.26760e+02, 1.67680e+02,\n",
       "        2.08600e+02, 2.49520e+02, 2.90440e+02, 3.31360e+02, 3.72280e+02,\n",
       "        4.13200e+02, 4.54120e+02, 4.95040e+02, 5.35960e+02, 5.76880e+02,\n",
       "        6.17800e+02, 6.58720e+02, 6.99640e+02, 7.40560e+02, 7.81480e+02,\n",
       "        8.22400e+02, 8.63320e+02, 9.04240e+02, 9.45160e+02, 9.86080e+02,\n",
       "        1.02700e+03, 1.06792e+03, 1.10884e+03, 1.14976e+03, 1.19068e+03,\n",
       "        1.23160e+03, 1.27252e+03, 1.31344e+03, 1.35436e+03, 1.39528e+03,\n",
       "        1.43620e+03, 1.47712e+03, 1.51804e+03, 1.55896e+03, 1.59988e+03,\n",
       "        1.64080e+03, 1.68172e+03, 1.72264e+03, 1.76356e+03, 1.80448e+03,\n",
       "        1.84540e+03, 1.88632e+03, 1.92724e+03, 1.96816e+03, 2.00908e+03,\n",
       "        2.05000e+03, 2.09092e+03, 2.13184e+03, 2.17276e+03, 2.21368e+03,\n",
       "        2.25460e+03, 2.29552e+03, 2.33644e+03, 2.37736e+03, 2.41828e+03,\n",
       "        2.45920e+03, 2.50012e+03, 2.54104e+03, 2.58196e+03, 2.62288e+03,\n",
       "        2.66380e+03, 2.70472e+03, 2.74564e+03, 2.78656e+03, 2.82748e+03,\n",
       "        2.86840e+03, 2.90932e+03, 2.95024e+03, 2.99116e+03, 3.03208e+03,\n",
       "        3.07300e+03, 3.11392e+03, 3.15484e+03, 3.19576e+03, 3.23668e+03,\n",
       "        3.27760e+03, 3.31852e+03, 3.35944e+03, 3.40036e+03, 3.44128e+03,\n",
       "        3.48220e+03, 3.52312e+03, 3.56404e+03, 3.60496e+03, 3.64588e+03,\n",
       "        3.68680e+03, 3.72772e+03, 3.76864e+03, 3.80956e+03, 3.85048e+03,\n",
       "        3.89140e+03, 3.93232e+03, 3.97324e+03, 4.01416e+03, 4.05508e+03,\n",
       "        4.09600e+03]),\n",
       " <BarContainer object of 100 artists>)"
      ]
     },
     "execution_count": 7,
     "metadata": {},
     "output_type": "execute_result"
    },
    {
     "data": {
      "image/png": "[encoded data removed]",
      "text/plain": [
       "<Figure size 640x480 with 1 Axes>"
      ]
     },
     "metadata": {},
     "output_type": "display_data"
    }
   ],
   "source": [
    "from matplotlib import pyplot as plt\n",
    "\n",
    "plt.hist(deck_lengths, bins=100)"
   ]
  }
 ],
 "metadata": {
  "kernelspec": {
   "display_name": "mtg-preds",
   "language": "python",
   "name": "python3"
  },
  "language_info": {
   "codemirror_mode": {
    "name": "ipython",
    "version": 3
   },
   "file_extension": ".py",
   "mimetype": "text/x-python",
   "name": "python",
   "nbconvert_exporter": "python",
   "pygments_lexer": "ipython3",
   "version": "3.8.18"
  }
 },
 "nbformat": 4,
 "nbformat_minor": 2
}
