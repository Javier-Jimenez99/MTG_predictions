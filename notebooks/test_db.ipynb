{
 "cells": [
  {
   "cell_type": "code",
   "execution_count": 4,
   "metadata": {},
   "outputs": [
    {
     "name": "stderr",
     "output_type": "stream",
     "text": [
      "C:\\Users\\javij\\AppData\\Local\\Temp\\ipykernel_32528\\2152095183.py:3: DtypeWarning: Columns (20,21,22,23,26,34,36,51,52,54,55,66,67,82,86,87,90,93,94,95,96,97,98,99,100,101,102,103,107,118,119,125,126,127,128,129,130,131,132,133,134,135,138,150,151,155,156,157,158,159,160,161,162,163,165,166,167,170,171,172,173,182,183,188,189,190,191,192,193,194,197,198,199,202,203,204,205,214,219,220,221,223,224,225,227,229,231,234,235,236,237,252,253,255,256,257,258,261,263,266,267,268,269,278,283,284,285,287,288,289,291,293,298,299,300,301,316,317,319,320,321,322,325,330,331,332,333,347,348,349,351,352,353,355,362,363,364,365,380,381,383,384,385,386,394,395,396,397,411,412,413,415,416,417,419,426,427,428,429,444,445,447,448,449,450,458,459,460,461,475,476,477,479,480,481,483,490,491,492,493,508,509,511,512,513,514,522,523,524,525,539,540,541,543,544,545,547,554,555,556,557,572,573,575,576,577,578,581,586,587,588,589,603,604,605,606,607,608,609,611,613,618,619,620,621,636,637,638,639,640,641,642,645,650,651,652,653,667,668,669,670,671,672,673,675,677,679,682,683,684,685,700,701,702,703,704,705,706,709,710,711,714,715,716,717,730,731,732,733,734,735,736,737,739,741,742,743,746,747,748,749,764,765,766,767,768,769,770,773,774,775,778,779,780,781,790,794,795,796,797,798,799,800,801,802,803,804,805,806,807,810,811,812,813,823,828,829,830,831,832,833,834,835,836,837,838,839,842,843,844,845,854,858,859,860,861,862,863,864,865,866,867,868,869,870,871,874,875,876,877,880,886,887,892,893,894,895,896,897,898,899,900,901,902,903,906,907,908,909,912,918,919,922,923,924,925,926,927,928,929,930,931,932,933,934,935,938,939,940,941,944,946,947,948,949,950,951,956,957,958,959,960,961,962,963,964,965,966,967,970,971,972,973,976,978,979,980,981,982,983,986,987,988,989,990,991,992,993,994,995,996,997,998,999,1002,1003,1004,1005,1008,1010,1011,1012,1013,1014,1015,1020,1021,1022,1023,1024,1025,1026,1027,1028,1029,1030,1031,1034,1035,1036,1037,1040,1042,1043,1044,1045,1046,1047,1050,1051,1052,1053,1054,1055,1056,1057,1058,1059,1060,1061,1062,1063,1066,1067,1068,1069,1072,1074,1075,1076,1077,1078,1079,1084,1085,1086,1087,1088,1089,1090,1091,1092,1093,1094,1095,1098,1099,1100,1101,1104,1106,1107,1108,1109,1110,1111,1114,1115,1116,1117,1118,1119,1120,1121,1122,1123,1124,1125,1126,1127,1130,1131,1132,1133,1136,1138,1139,1140,1141,1142,1143,1148,1149,1150,1151,1152,1153,1154,1155,1156,1157,1158,1159,1162,1163,1164,1165,1168,1170,1171,1172,1173,1174,1175,1178,1179,1180,1181,1182,1183,1184,1185,1186,1187,1188,1189,1190,1191,1194,1195,1196,1197,1200,1202,1203,1204,1205,1206,1207,1212,1213,1214,1215,1216,1217,1218,1219,1220,1221,1222,1223,1226,1227,1228,1229,1232,1234,1235,1236,1237,1238,1239,1242,1243,1244,1245,1246,1247,1248,1249,1250,1251,1252,1253,1254,1255,1258,1259,1260,1261,1264,1266,1267,1268,1269,1270,1271,1276,1277,1278,1279,1280,1281,1282,1283,1284,1285,1286,1287,1290,1291,1292,1293,1296,1298,1299,1300,1301,1302,1303,1306,1307,1308,1309,1310,1311,1312,1313,1314,1315,1316,1317,1318,1319,1322,1323,1324,1325,1328,1330,1331,1332,1333,1334,1335,1340,1341,1342,1343,1344,1345,1346,1347,1348,1349,1350,1351,1354,1355,1356,1357,1360,1362,1363,1364,1365,1366,1367,1370,1372,1373,1374,1375,1376,1377,1378,1379,1380,1381,1382,1383,1386,1387,1388,1389,1392,1394,1395,1396,1397,1398,1399,1404,1405,1406,1407,1408,1409,1410,1411,1412,1413,1414,1415,1418,1419,1420,1421,1424,1426,1427,1428,1429,1430,1431,1434,1435,1438,1439,1440,1441,1442,1443,1444,1445,1446,1447,1450,1451,1452,1453,1456,1458,1459,1460,1461,1462,1463,1469,1470,1471,1472,1473,1474,1475,1476,1477,1478,1479,1482,1483,1484,1485,1488,1490,1491,1492,1493,1494,1495,1498,1502,1503,1504,1505,1506,1507,1508,1509,1510,1511,1514,1515,1516,1517,1520,1522,1523,1524,1525,1526,1527,1532,1534,1535,1536,1537,1538,1539,1540,1541,1542,1543,1546,1547,1548,1549,1552,1554,1555,1556,1557,1558,1559,1562,1566,1567,1568,1570,1571,1572,1573,1574,1575,1578,1579,1580,1581,1584,1586,1587,1588,1589,1590,1591,1598,1599,1601,1602,1603,1604,1605,1606,1607,1610,1611,1612,1613,1616,1618,1619,1620,1621,1622,1623,1626,1629,1630,1632,1634,1635,1636,1637,1638,1639,1642,1643,1648,1650,1651,1652,1653,1654,1655,1662,1665,1666,1667,1668,1669,1670,1671,1674,1675,1676,1680,1682,1683,1684,1685,1686,1687,1690,1694,1696,1697,1698,1699,1700,1701,1702,1703,1706,1707,1709,1712,1714,1715,1716,1717,1718,1719,1726,1729,1730,1731,1732,1733,1734,1735,1738,1739,1740,1744,1746,1747,1748,1749,1750,1751,1754,1758,1762,1763,1764,1765,1766,1767,1770,1771,1776,1778,1779,1780,1781,1782,1783,1794,1795,1796,1797,1798,1799,1808,1810,1811,1812,1813,1814,1815,1824,1825,1826,1827,1828,1829,1830,1831,1834,1835,1836,1837,1840,1842,1843,1844,1845,1846,1847,1858,1859,1860,1862,1872,1874,1875,1876,1877,1878,1879,1892,1893,1895,1899,1904,1906,1907,1908,1909,1910,1911,1924,1925,1927,1930,1936,1938,1939,1940,1941,1942,1943) have mixed types. Specify dtype option on import or set low_memory=False.\n",
      "  df = pd.read_csv(\"C:/Users/javij/Downloads/replay_data_public.MKM.PremierDraft.csv/replay_data_public.MKM.PremierDraft.csv\")\n"
     ]
    },
    {
     "ename": "MemoryError",
     "evalue": "Unable to allocate 9.35 GiB for an array with shape (1316, 953529) and data type object",
     "output_type": "error",
     "traceback": [
      "\u001b[1;31m---------------------------------------------------------------------------\u001b[0m",
      "\u001b[1;31mMemoryError\u001b[0m                               Traceback (most recent call last)",
      "Cell \u001b[1;32mIn [4], line 3\u001b[0m\n\u001b[0;32m      1\u001b[0m \u001b[38;5;28;01mimport\u001b[39;00m \u001b[38;5;21;01mpandas\u001b[39;00m \u001b[38;5;28;01mas\u001b[39;00m \u001b[38;5;21;01mpd\u001b[39;00m\n\u001b[1;32m----> 3\u001b[0m df \u001b[38;5;241m=\u001b[39m pd\u001b[38;5;241m.\u001b[39mread_csv(\u001b[38;5;124m\"\u001b[39m\u001b[38;5;124mC:/Users/javij/Downloads/replay_data_public.MKM.PremierDraft.csv/replay_data_public.MKM.PremierDraft.csv\u001b[39m\u001b[38;5;124m\"\u001b[39m)\n\u001b[0;32m      4\u001b[0m df\n",
      "File \u001b[1;32mc:\\Users\\javij\\miniconda3\\envs\\mtg-preds\\lib\\site-packages\\pandas\\util\\_decorators.py:211\u001b[0m, in \u001b[0;36mdeprecate_kwarg.<locals>._deprecate_kwarg.<locals>.wrapper\u001b[1;34m(*args, **kwargs)\u001b[0m\n\u001b[0;32m    209\u001b[0m     \u001b[38;5;28;01melse\u001b[39;00m:\n\u001b[0;32m    210\u001b[0m         kwargs[new_arg_name] \u001b[38;5;241m=\u001b[39m new_arg_value\n\u001b[1;32m--> 211\u001b[0m \u001b[38;5;28;01mreturn\u001b[39;00m func(\u001b[38;5;241m*\u001b[39margs, \u001b[38;5;241m*\u001b[39m\u001b[38;5;241m*\u001b[39mkwargs)\n",
      "File \u001b[1;32mc:\\Users\\javij\\miniconda3\\envs\\mtg-preds\\lib\\site-packages\\pandas\\util\\_decorators.py:317\u001b[0m, in \u001b[0;36mdeprecate_nonkeyword_arguments.<locals>.decorate.<locals>.wrapper\u001b[1;34m(*args, **kwargs)\u001b[0m\n\u001b[0;32m    311\u001b[0m \u001b[38;5;28;01mif\u001b[39;00m \u001b[38;5;28mlen\u001b[39m(args) \u001b[38;5;241m>\u001b[39m num_allow_args:\n\u001b[0;32m    312\u001b[0m     warnings\u001b[38;5;241m.\u001b[39mwarn(\n\u001b[0;32m    313\u001b[0m         msg\u001b[38;5;241m.\u001b[39mformat(arguments\u001b[38;5;241m=\u001b[39marguments),\n\u001b[0;32m    314\u001b[0m         \u001b[38;5;167;01mFutureWarning\u001b[39;00m,\n\u001b[0;32m    315\u001b[0m         stacklevel\u001b[38;5;241m=\u001b[39mfind_stack_level(inspect\u001b[38;5;241m.\u001b[39mcurrentframe()),\n\u001b[0;32m    316\u001b[0m     )\n\u001b[1;32m--> 317\u001b[0m \u001b[38;5;28;01mreturn\u001b[39;00m func(\u001b[38;5;241m*\u001b[39margs, \u001b[38;5;241m*\u001b[39m\u001b[38;5;241m*\u001b[39mkwargs)\n",
      "File \u001b[1;32mc:\\Users\\javij\\miniconda3\\envs\\mtg-preds\\lib\\site-packages\\pandas\\io\\parsers\\readers.py:950\u001b[0m, in \u001b[0;36mread_csv\u001b[1;34m(filepath_or_buffer, sep, delimiter, header, names, index_col, usecols, squeeze, prefix, mangle_dupe_cols, dtype, engine, converters, true_values, false_values, skipinitialspace, skiprows, skipfooter, nrows, na_values, keep_default_na, na_filter, verbose, skip_blank_lines, parse_dates, infer_datetime_format, keep_date_col, date_parser, dayfirst, cache_dates, iterator, chunksize, compression, thousands, decimal, lineterminator, quotechar, quoting, doublequote, escapechar, comment, encoding, encoding_errors, dialect, error_bad_lines, warn_bad_lines, on_bad_lines, delim_whitespace, low_memory, memory_map, float_precision, storage_options)\u001b[0m\n\u001b[0;32m    935\u001b[0m kwds_defaults \u001b[38;5;241m=\u001b[39m _refine_defaults_read(\n\u001b[0;32m    936\u001b[0m     dialect,\n\u001b[0;32m    937\u001b[0m     delimiter,\n\u001b[1;32m   (...)\u001b[0m\n\u001b[0;32m    946\u001b[0m     defaults\u001b[38;5;241m=\u001b[39m{\u001b[38;5;124m\"\u001b[39m\u001b[38;5;124mdelimiter\u001b[39m\u001b[38;5;124m\"\u001b[39m: \u001b[38;5;124m\"\u001b[39m\u001b[38;5;124m,\u001b[39m\u001b[38;5;124m\"\u001b[39m},\n\u001b[0;32m    947\u001b[0m )\n\u001b[0;32m    948\u001b[0m kwds\u001b[38;5;241m.\u001b[39mupdate(kwds_defaults)\n\u001b[1;32m--> 950\u001b[0m \u001b[38;5;28;01mreturn\u001b[39;00m \u001b[43m_read\u001b[49m\u001b[43m(\u001b[49m\u001b[43mfilepath_or_buffer\u001b[49m\u001b[43m,\u001b[49m\u001b[43m \u001b[49m\u001b[43mkwds\u001b[49m\u001b[43m)\u001b[49m\n",
      "File \u001b[1;32mc:\\Users\\javij\\miniconda3\\envs\\mtg-preds\\lib\\site-packages\\pandas\\io\\parsers\\readers.py:611\u001b[0m, in \u001b[0;36m_read\u001b[1;34m(filepath_or_buffer, kwds)\u001b[0m\n\u001b[0;32m    608\u001b[0m     \u001b[38;5;28;01mreturn\u001b[39;00m parser\n\u001b[0;32m    610\u001b[0m \u001b[38;5;28;01mwith\u001b[39;00m parser:\n\u001b[1;32m--> 611\u001b[0m     \u001b[38;5;28;01mreturn\u001b[39;00m \u001b[43mparser\u001b[49m\u001b[38;5;241;43m.\u001b[39;49m\u001b[43mread\u001b[49m\u001b[43m(\u001b[49m\u001b[43mnrows\u001b[49m\u001b[43m)\u001b[49m\n",
      "File \u001b[1;32mc:\\Users\\javij\\miniconda3\\envs\\mtg-preds\\lib\\site-packages\\pandas\\io\\parsers\\readers.py:1789\u001b[0m, in \u001b[0;36mTextFileReader.read\u001b[1;34m(self, nrows)\u001b[0m\n\u001b[0;32m   1786\u001b[0m     \u001b[38;5;28;01melse\u001b[39;00m:\n\u001b[0;32m   1787\u001b[0m         new_rows \u001b[38;5;241m=\u001b[39m \u001b[38;5;28mlen\u001b[39m(index)\n\u001b[1;32m-> 1789\u001b[0m     df \u001b[38;5;241m=\u001b[39m \u001b[43mDataFrame\u001b[49m\u001b[43m(\u001b[49m\u001b[43mcol_dict\u001b[49m\u001b[43m,\u001b[49m\u001b[43m \u001b[49m\u001b[43mcolumns\u001b[49m\u001b[38;5;241;43m=\u001b[39;49m\u001b[43mcolumns\u001b[49m\u001b[43m,\u001b[49m\u001b[43m \u001b[49m\u001b[43mindex\u001b[49m\u001b[38;5;241;43m=\u001b[39;49m\u001b[43mindex\u001b[49m\u001b[43m)\u001b[49m\n\u001b[0;32m   1791\u001b[0m     \u001b[38;5;28mself\u001b[39m\u001b[38;5;241m.\u001b[39m_currow \u001b[38;5;241m+\u001b[39m\u001b[38;5;241m=\u001b[39m new_rows\n\u001b[0;32m   1793\u001b[0m \u001b[38;5;28;01mif\u001b[39;00m \u001b[38;5;28mself\u001b[39m\u001b[38;5;241m.\u001b[39msqueeze \u001b[38;5;129;01mand\u001b[39;00m \u001b[38;5;28mlen\u001b[39m(df\u001b[38;5;241m.\u001b[39mcolumns) \u001b[38;5;241m==\u001b[39m \u001b[38;5;241m1\u001b[39m:\n",
      "File \u001b[1;32mc:\\Users\\javij\\miniconda3\\envs\\mtg-preds\\lib\\site-packages\\pandas\\core\\frame.py:663\u001b[0m, in \u001b[0;36mDataFrame.__init__\u001b[1;34m(self, data, index, columns, dtype, copy)\u001b[0m\n\u001b[0;32m    657\u001b[0m     mgr \u001b[38;5;241m=\u001b[39m \u001b[38;5;28mself\u001b[39m\u001b[38;5;241m.\u001b[39m_init_mgr(\n\u001b[0;32m    658\u001b[0m         data, axes\u001b[38;5;241m=\u001b[39m{\u001b[38;5;124m\"\u001b[39m\u001b[38;5;124mindex\u001b[39m\u001b[38;5;124m\"\u001b[39m: index, \u001b[38;5;124m\"\u001b[39m\u001b[38;5;124mcolumns\u001b[39m\u001b[38;5;124m\"\u001b[39m: columns}, dtype\u001b[38;5;241m=\u001b[39mdtype, copy\u001b[38;5;241m=\u001b[39mcopy\n\u001b[0;32m    659\u001b[0m     )\n\u001b[0;32m    661\u001b[0m \u001b[38;5;28;01melif\u001b[39;00m \u001b[38;5;28misinstance\u001b[39m(data, \u001b[38;5;28mdict\u001b[39m):\n\u001b[0;32m    662\u001b[0m     \u001b[38;5;66;03m# GH#38939 de facto copy defaults to False only in non-dict cases\u001b[39;00m\n\u001b[1;32m--> 663\u001b[0m     mgr \u001b[38;5;241m=\u001b[39m \u001b[43mdict_to_mgr\u001b[49m\u001b[43m(\u001b[49m\u001b[43mdata\u001b[49m\u001b[43m,\u001b[49m\u001b[43m \u001b[49m\u001b[43mindex\u001b[49m\u001b[43m,\u001b[49m\u001b[43m \u001b[49m\u001b[43mcolumns\u001b[49m\u001b[43m,\u001b[49m\u001b[43m \u001b[49m\u001b[43mdtype\u001b[49m\u001b[38;5;241;43m=\u001b[39;49m\u001b[43mdtype\u001b[49m\u001b[43m,\u001b[49m\u001b[43m \u001b[49m\u001b[43mcopy\u001b[49m\u001b[38;5;241;43m=\u001b[39;49m\u001b[43mcopy\u001b[49m\u001b[43m,\u001b[49m\u001b[43m \u001b[49m\u001b[43mtyp\u001b[49m\u001b[38;5;241;43m=\u001b[39;49m\u001b[43mmanager\u001b[49m\u001b[43m)\u001b[49m\n\u001b[0;32m    664\u001b[0m \u001b[38;5;28;01melif\u001b[39;00m \u001b[38;5;28misinstance\u001b[39m(data, ma\u001b[38;5;241m.\u001b[39mMaskedArray):\n\u001b[0;32m    665\u001b[0m     \u001b[38;5;28;01mimport\u001b[39;00m \u001b[38;5;21;01mnumpy\u001b[39;00m\u001b[38;5;21;01m.\u001b[39;00m\u001b[38;5;21;01mma\u001b[39;00m\u001b[38;5;21;01m.\u001b[39;00m\u001b[38;5;21;01mmrecords\u001b[39;00m \u001b[38;5;28;01mas\u001b[39;00m \u001b[38;5;21;01mmrecords\u001b[39;00m\n",
      "File \u001b[1;32mc:\\Users\\javij\\miniconda3\\envs\\mtg-preds\\lib\\site-packages\\pandas\\core\\internals\\construction.py:494\u001b[0m, in \u001b[0;36mdict_to_mgr\u001b[1;34m(data, index, columns, dtype, typ, copy)\u001b[0m\n\u001b[0;32m    490\u001b[0m     \u001b[38;5;28;01melse\u001b[39;00m:\n\u001b[0;32m    491\u001b[0m         \u001b[38;5;66;03m# dtype check to exclude e.g. range objects, scalars\u001b[39;00m\n\u001b[0;32m    492\u001b[0m         arrays \u001b[38;5;241m=\u001b[39m [x\u001b[38;5;241m.\u001b[39mcopy() \u001b[38;5;28;01mif\u001b[39;00m \u001b[38;5;28mhasattr\u001b[39m(x, \u001b[38;5;124m\"\u001b[39m\u001b[38;5;124mdtype\u001b[39m\u001b[38;5;124m\"\u001b[39m) \u001b[38;5;28;01melse\u001b[39;00m x \u001b[38;5;28;01mfor\u001b[39;00m x \u001b[38;5;129;01min\u001b[39;00m arrays]\n\u001b[1;32m--> 494\u001b[0m \u001b[38;5;28;01mreturn\u001b[39;00m \u001b[43marrays_to_mgr\u001b[49m\u001b[43m(\u001b[49m\u001b[43marrays\u001b[49m\u001b[43m,\u001b[49m\u001b[43m \u001b[49m\u001b[43mcolumns\u001b[49m\u001b[43m,\u001b[49m\u001b[43m \u001b[49m\u001b[43mindex\u001b[49m\u001b[43m,\u001b[49m\u001b[43m \u001b[49m\u001b[43mdtype\u001b[49m\u001b[38;5;241;43m=\u001b[39;49m\u001b[43mdtype\u001b[49m\u001b[43m,\u001b[49m\u001b[43m \u001b[49m\u001b[43mtyp\u001b[49m\u001b[38;5;241;43m=\u001b[39;49m\u001b[43mtyp\u001b[49m\u001b[43m,\u001b[49m\u001b[43m \u001b[49m\u001b[43mconsolidate\u001b[49m\u001b[38;5;241;43m=\u001b[39;49m\u001b[43mcopy\u001b[49m\u001b[43m)\u001b[49m\n",
      "File \u001b[1;32mc:\\Users\\javij\\miniconda3\\envs\\mtg-preds\\lib\\site-packages\\pandas\\core\\internals\\construction.py:155\u001b[0m, in \u001b[0;36marrays_to_mgr\u001b[1;34m(arrays, columns, index, dtype, verify_integrity, typ, consolidate)\u001b[0m\n\u001b[0;32m    152\u001b[0m axes \u001b[38;5;241m=\u001b[39m [columns, index]\n\u001b[0;32m    154\u001b[0m \u001b[38;5;28;01mif\u001b[39;00m typ \u001b[38;5;241m==\u001b[39m \u001b[38;5;124m\"\u001b[39m\u001b[38;5;124mblock\u001b[39m\u001b[38;5;124m\"\u001b[39m:\n\u001b[1;32m--> 155\u001b[0m     \u001b[38;5;28;01mreturn\u001b[39;00m \u001b[43mcreate_block_manager_from_column_arrays\u001b[49m\u001b[43m(\u001b[49m\n\u001b[0;32m    156\u001b[0m \u001b[43m        \u001b[49m\u001b[43marrays\u001b[49m\u001b[43m,\u001b[49m\u001b[43m \u001b[49m\u001b[43maxes\u001b[49m\u001b[43m,\u001b[49m\u001b[43m \u001b[49m\u001b[43mconsolidate\u001b[49m\u001b[38;5;241;43m=\u001b[39;49m\u001b[43mconsolidate\u001b[49m\n\u001b[0;32m    157\u001b[0m \u001b[43m    \u001b[49m\u001b[43m)\u001b[49m\n\u001b[0;32m    158\u001b[0m \u001b[38;5;28;01melif\u001b[39;00m typ \u001b[38;5;241m==\u001b[39m \u001b[38;5;124m\"\u001b[39m\u001b[38;5;124marray\u001b[39m\u001b[38;5;124m\"\u001b[39m:\n\u001b[0;32m    159\u001b[0m     \u001b[38;5;28;01mreturn\u001b[39;00m ArrayManager(arrays, [index, columns])\n",
      "File \u001b[1;32mc:\\Users\\javij\\miniconda3\\envs\\mtg-preds\\lib\\site-packages\\pandas\\core\\internals\\managers.py:2171\u001b[0m, in \u001b[0;36mcreate_block_manager_from_column_arrays\u001b[1;34m(arrays, axes, consolidate)\u001b[0m\n\u001b[0;32m   2169\u001b[0m     \u001b[38;5;28;01mraise\u001b[39;00m construction_error(\u001b[38;5;28mlen\u001b[39m(arrays), arrays[\u001b[38;5;241m0\u001b[39m]\u001b[38;5;241m.\u001b[39mshape, axes, e)\n\u001b[0;32m   2170\u001b[0m \u001b[38;5;28;01mif\u001b[39;00m consolidate:\n\u001b[1;32m-> 2171\u001b[0m     \u001b[43mmgr\u001b[49m\u001b[38;5;241;43m.\u001b[39;49m\u001b[43m_consolidate_inplace\u001b[49m\u001b[43m(\u001b[49m\u001b[43m)\u001b[49m\n\u001b[0;32m   2172\u001b[0m \u001b[38;5;28;01mreturn\u001b[39;00m mgr\n",
      "File \u001b[1;32mc:\\Users\\javij\\miniconda3\\envs\\mtg-preds\\lib\\site-packages\\pandas\\core\\internals\\managers.py:1848\u001b[0m, in \u001b[0;36mBlockManager._consolidate_inplace\u001b[1;34m(self)\u001b[0m\n\u001b[0;32m   1846\u001b[0m \u001b[38;5;28;01mif\u001b[39;00m \u001b[38;5;129;01mnot\u001b[39;00m \u001b[38;5;28mself\u001b[39m\u001b[38;5;241m.\u001b[39mis_consolidated():\n\u001b[0;32m   1847\u001b[0m     \u001b[38;5;28;01mif\u001b[39;00m \u001b[38;5;28mself\u001b[39m\u001b[38;5;241m.\u001b[39mrefs \u001b[38;5;129;01mis\u001b[39;00m \u001b[38;5;28;01mNone\u001b[39;00m:\n\u001b[1;32m-> 1848\u001b[0m         \u001b[38;5;28mself\u001b[39m\u001b[38;5;241m.\u001b[39mblocks \u001b[38;5;241m=\u001b[39m \u001b[43m_consolidate\u001b[49m\u001b[43m(\u001b[49m\u001b[38;5;28;43mself\u001b[39;49m\u001b[38;5;241;43m.\u001b[39;49m\u001b[43mblocks\u001b[49m\u001b[43m)\u001b[49m\n\u001b[0;32m   1849\u001b[0m     \u001b[38;5;28;01melse\u001b[39;00m:\n\u001b[0;32m   1850\u001b[0m         \u001b[38;5;28mself\u001b[39m\u001b[38;5;241m.\u001b[39mblocks, \u001b[38;5;28mself\u001b[39m\u001b[38;5;241m.\u001b[39mrefs \u001b[38;5;241m=\u001b[39m _consolidate_with_refs(\u001b[38;5;28mself\u001b[39m\u001b[38;5;241m.\u001b[39mblocks, \u001b[38;5;28mself\u001b[39m\u001b[38;5;241m.\u001b[39mrefs)\n",
      "File \u001b[1;32mc:\\Users\\javij\\miniconda3\\envs\\mtg-preds\\lib\\site-packages\\pandas\\core\\internals\\managers.py:2296\u001b[0m, in \u001b[0;36m_consolidate\u001b[1;34m(blocks)\u001b[0m\n\u001b[0;32m   2294\u001b[0m new_blocks: \u001b[38;5;28mlist\u001b[39m[Block] \u001b[38;5;241m=\u001b[39m []\n\u001b[0;32m   2295\u001b[0m \u001b[38;5;28;01mfor\u001b[39;00m (_can_consolidate, dtype), group_blocks \u001b[38;5;129;01min\u001b[39;00m grouper:\n\u001b[1;32m-> 2296\u001b[0m     merged_blocks, _ \u001b[38;5;241m=\u001b[39m \u001b[43m_merge_blocks\u001b[49m\u001b[43m(\u001b[49m\n\u001b[0;32m   2297\u001b[0m \u001b[43m        \u001b[49m\u001b[38;5;28;43mlist\u001b[39;49m\u001b[43m(\u001b[49m\u001b[43mgroup_blocks\u001b[49m\u001b[43m)\u001b[49m\u001b[43m,\u001b[49m\u001b[43m \u001b[49m\u001b[43mdtype\u001b[49m\u001b[38;5;241;43m=\u001b[39;49m\u001b[43mdtype\u001b[49m\u001b[43m,\u001b[49m\u001b[43m \u001b[49m\u001b[43mcan_consolidate\u001b[49m\u001b[38;5;241;43m=\u001b[39;49m\u001b[43m_can_consolidate\u001b[49m\n\u001b[0;32m   2298\u001b[0m \u001b[43m    \u001b[49m\u001b[43m)\u001b[49m\n\u001b[0;32m   2299\u001b[0m     new_blocks \u001b[38;5;241m=\u001b[39m extend_blocks(merged_blocks, new_blocks)\n\u001b[0;32m   2300\u001b[0m \u001b[38;5;28;01mreturn\u001b[39;00m \u001b[38;5;28mtuple\u001b[39m(new_blocks)\n",
      "File \u001b[1;32mc:\\Users\\javij\\miniconda3\\envs\\mtg-preds\\lib\\site-packages\\pandas\\core\\internals\\managers.py:2355\u001b[0m, in \u001b[0;36m_merge_blocks\u001b[1;34m(blocks, dtype, can_consolidate)\u001b[0m\n\u001b[0;32m   2352\u001b[0m     new_values \u001b[38;5;241m=\u001b[39m bvals2[\u001b[38;5;241m0\u001b[39m]\u001b[38;5;241m.\u001b[39m_concat_same_type(bvals2, axis\u001b[38;5;241m=\u001b[39m\u001b[38;5;241m0\u001b[39m)\n\u001b[0;32m   2354\u001b[0m argsort \u001b[38;5;241m=\u001b[39m np\u001b[38;5;241m.\u001b[39margsort(new_mgr_locs)\n\u001b[1;32m-> 2355\u001b[0m new_values \u001b[38;5;241m=\u001b[39m \u001b[43mnew_values\u001b[49m\u001b[43m[\u001b[49m\u001b[43margsort\u001b[49m\u001b[43m]\u001b[49m\n\u001b[0;32m   2356\u001b[0m new_mgr_locs \u001b[38;5;241m=\u001b[39m new_mgr_locs[argsort]\n\u001b[0;32m   2358\u001b[0m bp \u001b[38;5;241m=\u001b[39m BlockPlacement(new_mgr_locs)\n",
      "\u001b[1;31mMemoryError\u001b[0m: Unable to allocate 9.35 GiB for an array with shape (1316, 953529) and data type object"
     ]
    }
   ],
   "source": [
    "import pandas as pd\n",
    "\n",
    "df = pd.read_csv(\n",
    "    \"C:/Users/javij/Downloads/replay_data_public.MKM.PremierDraft.csv/replay_data_public.MKM.PremierDraft.csv\"\n",
    ")\n",
    "df"
   ]
  },
  {
   "cell_type": "code",
   "execution_count": 7,
   "metadata": {},
   "outputs": [],
   "source": [
    "from MTGpred.utils.database import get_all_matches_ids, get_match\n",
    "\n",
    "\n",
    "matches = get_all_matches_ids()"
   ]
  },
  {
   "cell_type": "code",
   "execution_count": 8,
   "metadata": {},
   "outputs": [],
   "source": [
    "mathces = [get_match(match_id) for match_id in matches]"
   ]
  },
  {
   "cell_type": "code",
   "execution_count": 20,
   "metadata": {},
   "outputs": [],
   "source": [
    "from MTGpred.utils.database import get_deck\n",
    "import pandas as pd\n",
    "\n",
    "\n",
    "def remove_id(deck):\n",
    "    deck.pop(\"_id\")\n",
    "    return deck\n",
    "\n",
    "\n",
    "df_matches = pd.DataFrame(mathces)\n",
    "df_matches[\"p1_deck\"] = df_matches[\"p1_deck\"].apply(lambda x: remove_id(get_deck(x)))\n",
    "df_matches[\"p2_deck\"] = df_matches[\"p2_deck\"].apply(lambda x: remove_id(get_deck(x)))"
   ]
  },
  {
   "cell_type": "code",
   "execution_count": 23,
   "metadata": {},
   "outputs": [],
   "source": [
    "df_matches.to_csv(\"../data/matches.csv\", index=False)"
   ]
  },
  {
   "cell_type": "code",
   "execution_count": 29,
   "metadata": {},
   "outputs": [
    {
     "data": {
      "text/plain": [
       "[{'name': 'Lukka, Coppercoat Outcast', 'quantity': '1'},\n",
       " {'name': 'Arbor Elf', 'quantity': '4'},\n",
       " {'name': 'Bonecrusher Giant', 'quantity': '4'},\n",
       " {'name': 'Glorybringer', 'quantity': '4'},\n",
       " {'name': 'Grim Lavamancer', 'quantity': '1'},\n",
       " {'name': 'Kitchen Finks', 'quantity': '4'},\n",
       " {'name': 'Klothys, God of Destiny', 'quantity': '3'},\n",
       " {'name': 'Magus of the Moon', 'quantity': '4'},\n",
       " {'name': 'Seasoned Pyromancer', 'quantity': '4'},\n",
       " {'name': 'Lightning Bolt', 'quantity': '4'},\n",
       " {'name': 'Blood Moon', 'quantity': '1'},\n",
       " {'name': 'Utopia Sprawl', 'quantity': '4'},\n",
       " {'name': 'Forest', 'quantity': '7'},\n",
       " {'name': 'Misty Rainforest', 'quantity': '2'},\n",
       " {'name': 'Mountain', 'quantity': '1'},\n",
       " {'name': 'Stomping Ground', 'quantity': '4'},\n",
       " {'name': 'Verdant Catacombs', 'quantity': '2'},\n",
       " {'name': 'Windswept Heath', 'quantity': '2'},\n",
       " {'name': 'Wooded Foothills', 'quantity': '4'}]"
      ]
     },
     "execution_count": 29,
     "metadata": {},
     "output_type": "execute_result"
    }
   ],
   "source": [
    "df_matches2 = pd.read_csv(\"../data/matches.csv\")\n",
    "\n",
    "eval(df_matches2[\"p1_deck\"].iloc[0])[\"main_deck\"]"
   ]
  }
 ],
 "metadata": {
  "kernelspec": {
   "display_name": "mtg-preds",
   "language": "python",
   "name": "python3"
  },
  "language_info": {
   "codemirror_mode": {
    "name": "ipython",
    "version": 3
   },
   "file_extension": ".py",
   "mimetype": "text/x-python",
   "name": "python",
   "nbconvert_exporter": "python",
   "pygments_lexer": "ipython3",
   "version": "3.9.13"
  }
 },
 "nbformat": 4,
 "nbformat_minor": 2
}
