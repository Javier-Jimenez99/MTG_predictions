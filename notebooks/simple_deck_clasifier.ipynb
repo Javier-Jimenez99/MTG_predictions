{
 "cells": [
  {
   "cell_type": "code",
   "execution_count": 1,
   "metadata": {},
   "outputs": [],
   "source": [
    "%load_ext autoreload\n",
    "%autoreload 2\n"
   ]
  },
  {
   "cell_type": "code",
   "execution_count": 2,
   "metadata": {},
   "outputs": [],
   "source": [
    "from MTGpred.model.dataset import DecksDataset\n",
    "from MTGpred.utils.mtgjson import load_cards_df\n",
    "import json\n",
    "from sklearn.model_selection import train_test_split\n",
    "\n",
    "with open(\"../data/mtgtop8_decks.json\", \"r\") as f:\n",
    "    decks_json = json.load(f)\n",
    "\n",
    "cards_df = load_cards_df(data_path=\"../data/AtomicCards.json\")\n",
    "\n",
    "# Split the data into train and test\n",
    "train_decks, test_decks = train_test_split(decks_json, test_size=0.2, random_state=42)\n",
    "\n",
    "train_dataset = DecksDataset(\n",
    "    cards_df,\n",
    "    train_decks,\n",
    "    model_name=\"allenai/longformer-base-4096\",\n",
    "    cased=False,\n",
    "    join_tokens=True,\n",
    "    max_length=4096,\n",
    ")\n",
    "test_dataset = DecksDataset(\n",
    "    cards_df,\n",
    "    test_decks,\n",
    "    model_name=\"allenai/longformer-base-4096\",\n",
    "    cased=False,\n",
    "    join_tokens=True,\n",
    "    max_length=4096,\n",
    ")"
   ]
  },
  {
   "cell_type": "code",
   "execution_count": 3,
   "metadata": {},
   "outputs": [
    {
     "data": {
      "application/vnd.jupyter.widget-view+json": {
       "model_id": "48ca40071b884627bbd25d8589b6f38c",
       "version_major": 2,
       "version_minor": 0
      },
      "text/plain": [
       "Downloading builder script:   0%|          | 0.00/4.20k [00:00<?, ?B/s]"
      ]
     },
     "metadata": {},
     "output_type": "display_data"
    },
    {
     "name": "stderr",
     "output_type": "stream",
     "text": [
      "Some weights of the model checkpoint at allenai/longformer-base-4096 were not used when initializing LongformerForSequenceClassification: ['lm_head.dense.bias', 'lm_head.dense.weight', 'lm_head.bias', 'lm_head.decoder.weight', 'lm_head.layer_norm.bias', 'lm_head.layer_norm.weight']\n",
      "- This IS expected if you are initializing LongformerForSequenceClassification from the checkpoint of a model trained on another task or with another architecture (e.g. initializing a BertForSequenceClassification model from a BertForPreTraining model).\n",
      "- This IS NOT expected if you are initializing LongformerForSequenceClassification from the checkpoint of a model that you expect to be exactly identical (initializing a BertForSequenceClassification model from a BertForSequenceClassification model).\n",
      "Some weights of LongformerForSequenceClassification were not initialized from the model checkpoint at allenai/longformer-base-4096 and are newly initialized: ['classifier.dense.bias', 'classifier.out_proj.bias', 'classifier.dense.weight', 'classifier.out_proj.weight']\n",
      "You should probably TRAIN this model on a down-stream task to be able to use it for predictions and inference.\n"
     ]
    }
   ],
   "source": [
    "from transformers import AutoModelForSequenceClassification, TrainingArguments, Trainer\n",
    "import evaluate\n",
    "import numpy as np\n",
    "\n",
    "accuracy = evaluate.load(\"accuracy\")\n",
    "\n",
    "\n",
    "def compute_metrics(eval_pred):\n",
    "    predictions, labels = eval_pred\n",
    "    predictions = np.argmax(predictions, axis=1)\n",
    "    return accuracy.compute(predictions=predictions, references=labels)\n",
    "\n",
    "\n",
    "model = AutoModelForSequenceClassification.from_pretrained(\n",
    "    \"allenai/longformer-base-4096\", num_labels=3\n",
    ")\n",
    "\n",
    "training_args = TrainingArguments(\n",
    "    output_dir=\"models/longformer\",\n",
    "    learning_rate=2e-5,\n",
    "    per_device_train_batch_size=1,\n",
    "    gradient_accumulation_steps=16,\n",
    "    per_device_eval_batch_size=1,\n",
    "    num_train_epochs=2,\n",
    "    weight_decay=0.01,\n",
    "    evaluation_strategy=\"epoch\",\n",
    "    save_strategy=\"epoch\",\n",
    "    load_best_model_at_end=True,\n",
    "    gradient_checkpointing=True,\n",
    "    logging_steps=5,\n",
    ")\n",
    "\n",
    "trainer = Trainer(\n",
    "    model=model,\n",
    "    args=training_args,\n",
    "    train_dataset=train_dataset,\n",
    "    eval_dataset=test_dataset,\n",
    "    compute_metrics=compute_metrics,\n",
    ")\n"
   ]
  },
  {
   "cell_type": "code",
   "execution_count": 4,
   "metadata": {},
   "outputs": [
    {
     "name": "stderr",
     "output_type": "stream",
     "text": [
      "c:\\Users\\javij\\miniconda3\\envs\\mtg-preds\\lib\\site-packages\\transformers\\optimization.py:306: FutureWarning: This implementation of AdamW is deprecated and will be removed in a future version. Use the PyTorch implementation torch.optim.AdamW instead, or set `no_deprecation_warning=True` to disable this warning\n",
      "  warnings.warn(\n",
      "***** Running training *****\n",
      "  Num examples = 32778\n",
      "  Num Epochs = 2\n",
      "  Instantaneous batch size per device = 1\n",
      "  Total train batch size (w. parallel, distributed & accumulation) = 16\n",
      "  Gradient Accumulation steps = 16\n",
      "  Total optimization steps = 4096\n",
      "Automatic Weights & Biases logging enabled, to disable set os.environ[\"WANDB_DISABLED\"] = \"true\"\n",
      "Failed to detect the name of this notebook, you can set it manually with the WANDB_NOTEBOOK_NAME environment variable to enable code saving.\n",
      "\u001b[34m\u001b[1mwandb\u001b[0m: Currently logged in as: \u001b[33mjavier-jimenez99\u001b[0m. Use \u001b[1m`wandb login --relogin`\u001b[0m to force relogin\n"
     ]
    },
    {
     "data": {
      "text/html": [
       "wandb version 0.16.2 is available!  To upgrade, please run:\n",
       " $ pip install wandb --upgrade"
      ],
      "text/plain": [
       "<IPython.core.display.HTML object>"
      ]
     },
     "metadata": {},
     "output_type": "display_data"
    },
    {
     "data": {
      "text/html": [
       "Tracking run with wandb version 0.13.4"
      ],
      "text/plain": [
       "<IPython.core.display.HTML object>"
      ]
     },
     "metadata": {},
     "output_type": "display_data"
    },
    {
     "data": {
      "text/html": [
       "Run data is saved locally in <code>c:\\Users\\javij\\OneDrive\\Escritorio\\Proyectos\\MTG_predictions\\notebooks\\wandb\\run-20240202_014044-3iyaxljc</code>"
      ],
      "text/plain": [
       "<IPython.core.display.HTML object>"
      ]
     },
     "metadata": {},
     "output_type": "display_data"
    },
    {
     "data": {
      "text/html": [
       "Syncing run <strong><a href=\"https://wandb.ai/javier-jimenez99/huggingface/runs/3iyaxljc\" target=\"_blank\">models/longformer</a></strong> to <a href=\"https://wandb.ai/javier-jimenez99/huggingface\" target=\"_blank\">Weights & Biases</a> (<a href=\"https://wandb.me/run\" target=\"_blank\">docs</a>)<br/>"
      ],
      "text/plain": [
       "<IPython.core.display.HTML object>"
      ]
     },
     "metadata": {},
     "output_type": "display_data"
    },
    {
     "data": {
      "application/vnd.jupyter.widget-view+json": {
       "model_id": "829581faf5424d308bdd95e6dd4bd340",
       "version_major": 2,
       "version_minor": 0
      },
      "text/plain": [
       "  0%|          | 0/4096 [00:00<?, ?it/s]"
      ]
     },
     "metadata": {},
     "output_type": "display_data"
    },
    {
     "name": "stderr",
     "output_type": "stream",
     "text": [
      "Initializing global attention on CLS token...\n",
      "Initializing global attention on CLS token...\n",
      "Initializing global attention on CLS token...\n",
      "Initializing global attention on CLS token...\n",
      "Initializing global attention on CLS token...\n",
      "Initializing global attention on CLS token...\n",
      "Initializing global attention on CLS token...\n",
      "Initializing global attention on CLS token...\n",
      "Initializing global attention on CLS token...\n",
      "Initializing global attention on CLS token...\n",
      "Initializing global attention on CLS token...\n",
      "Initializing global attention on CLS token...\n",
      "Initializing global attention on CLS token...\n",
      "Initializing global attention on CLS token...\n",
      "Initializing global attention on CLS token...\n",
      "Initializing global attention on CLS token...\n",
      "Initializing global attention on CLS token...\n",
      "Initializing global attention on CLS token...\n",
      "Initializing global attention on CLS token...\n",
      "Initializing global attention on CLS token...\n",
      "Initializing global attention on CLS token...\n",
      "Initializing global attention on CLS token...\n",
      "Initializing global attention on CLS token...\n",
      "Initializing global attention on CLS token...\n",
      "Initializing global attention on CLS token...\n",
      "Initializing global attention on CLS token...\n",
      "Initializing global attention on CLS token...\n",
      "Initializing global attention on CLS token...\n",
      "Initializing global attention on CLS token...\n",
      "Initializing global attention on CLS token...\n",
      "Initializing global attention on CLS token...\n",
      "Initializing global attention on CLS token...\n",
      "Initializing global attention on CLS token...\n",
      "Initializing global attention on CLS token...\n",
      "Initializing global attention on CLS token...\n",
      "Initializing global attention on CLS token...\n",
      "Initializing global attention on CLS token...\n",
      "Initializing global attention on CLS token...\n",
      "Initializing global attention on CLS token...\n",
      "Initializing global attention on CLS token...\n",
      "Initializing global attention on CLS token...\n",
      "Initializing global attention on CLS token...\n",
      "Initializing global attention on CLS token...\n",
      "Initializing global attention on CLS token...\n",
      "Initializing global attention on CLS token...\n",
      "Initializing global attention on CLS token...\n",
      "Initializing global attention on CLS token...\n",
      "Initializing global attention on CLS token...\n",
      "Initializing global attention on CLS token...\n",
      "Initializing global attention on CLS token...\n",
      "Initializing global attention on CLS token...\n",
      "Initializing global attention on CLS token...\n",
      "Initializing global attention on CLS token...\n",
      "Initializing global attention on CLS token...\n",
      "Initializing global attention on CLS token...\n",
      "Initializing global attention on CLS token...\n",
      "Initializing global attention on CLS token...\n",
      "Initializing global attention on CLS token...\n",
      "Initializing global attention on CLS token...\n",
      "Initializing global attention on CLS token...\n",
      "Initializing global attention on CLS token...\n",
      "Initializing global attention on CLS token...\n",
      "Initializing global attention on CLS token...\n",
      "Initializing global attention on CLS token...\n",
      "Initializing global attention on CLS token...\n",
      "Initializing global attention on CLS token...\n",
      "Initializing global attention on CLS token...\n",
      "Initializing global attention on CLS token...\n",
      "Initializing global attention on CLS token...\n",
      "Initializing global attention on CLS token...\n",
      "Initializing global attention on CLS token...\n",
      "Initializing global attention on CLS token...\n",
      "Initializing global attention on CLS token...\n",
      "Initializing global attention on CLS token...\n",
      "Initializing global attention on CLS token...\n",
      "Initializing global attention on CLS token...\n",
      "Initializing global attention on CLS token...\n",
      "Initializing global attention on CLS token...\n",
      "Initializing global attention on CLS token...\n",
      "Initializing global attention on CLS token...\n",
      "Initializing global attention on CLS token...\n"
     ]
    },
    {
     "name": "stdout",
     "output_type": "stream",
     "text": [
      "{'loss': 1.0759, 'learning_rate': 1.99755859375e-05, 'epoch': 0.0}\n"
     ]
    },
    {
     "name": "stderr",
     "output_type": "stream",
     "text": [
      "Initializing global attention on CLS token...\n",
      "Initializing global attention on CLS token...\n",
      "Initializing global attention on CLS token...\n",
      "Initializing global attention on CLS token...\n",
      "Initializing global attention on CLS token...\n",
      "Initializing global attention on CLS token...\n",
      "Initializing global attention on CLS token...\n",
      "Initializing global attention on CLS token...\n",
      "Initializing global attention on CLS token...\n",
      "Initializing global attention on CLS token...\n",
      "Initializing global attention on CLS token...\n",
      "Initializing global attention on CLS token...\n",
      "Initializing global attention on CLS token...\n",
      "Initializing global attention on CLS token...\n",
      "Initializing global attention on CLS token...\n",
      "Initializing global attention on CLS token...\n",
      "Initializing global attention on CLS token...\n",
      "Initializing global attention on CLS token...\n",
      "Initializing global attention on CLS token...\n",
      "Initializing global attention on CLS token...\n",
      "Initializing global attention on CLS token...\n",
      "Initializing global attention on CLS token...\n",
      "Initializing global attention on CLS token...\n",
      "Initializing global attention on CLS token...\n",
      "Initializing global attention on CLS token...\n",
      "Initializing global attention on CLS token...\n",
      "Initializing global attention on CLS token...\n",
      "Initializing global attention on CLS token...\n",
      "Initializing global attention on CLS token...\n",
      "Initializing global attention on CLS token...\n",
      "Initializing global attention on CLS token...\n",
      "Initializing global attention on CLS token...\n",
      "Initializing global attention on CLS token...\n",
      "Initializing global attention on CLS token...\n",
      "Initializing global attention on CLS token...\n",
      "Initializing global attention on CLS token...\n",
      "Initializing global attention on CLS token...\n",
      "Initializing global attention on CLS token...\n",
      "Initializing global attention on CLS token...\n",
      "Initializing global attention on CLS token...\n",
      "Initializing global attention on CLS token...\n",
      "Initializing global attention on CLS token...\n",
      "Initializing global attention on CLS token...\n",
      "Initializing global attention on CLS token...\n",
      "Initializing global attention on CLS token...\n",
      "Initializing global attention on CLS token...\n",
      "Initializing global attention on CLS token...\n",
      "Initializing global attention on CLS token...\n",
      "Initializing global attention on CLS token...\n",
      "Initializing global attention on CLS token...\n",
      "Initializing global attention on CLS token...\n",
      "Initializing global attention on CLS token...\n",
      "Initializing global attention on CLS token...\n",
      "Initializing global attention on CLS token...\n",
      "Initializing global attention on CLS token...\n",
      "Initializing global attention on CLS token...\n",
      "Initializing global attention on CLS token...\n",
      "Initializing global attention on CLS token...\n",
      "Initializing global attention on CLS token...\n",
      "Initializing global attention on CLS token...\n",
      "Initializing global attention on CLS token...\n",
      "Initializing global attention on CLS token...\n",
      "Initializing global attention on CLS token...\n",
      "Initializing global attention on CLS token...\n",
      "Initializing global attention on CLS token...\n",
      "Initializing global attention on CLS token...\n",
      "Initializing global attention on CLS token...\n",
      "Initializing global attention on CLS token...\n",
      "Initializing global attention on CLS token...\n",
      "Initializing global attention on CLS token...\n",
      "Initializing global attention on CLS token...\n",
      "Initializing global attention on CLS token...\n",
      "Initializing global attention on CLS token...\n",
      "Initializing global attention on CLS token...\n",
      "Initializing global attention on CLS token...\n",
      "Initializing global attention on CLS token...\n",
      "Initializing global attention on CLS token...\n",
      "Initializing global attention on CLS token...\n",
      "Initializing global attention on CLS token...\n",
      "Initializing global attention on CLS token...\n"
     ]
    },
    {
     "name": "stdout",
     "output_type": "stream",
     "text": [
      "{'loss': 0.9879, 'learning_rate': 1.9951171875e-05, 'epoch': 0.0}\n"
     ]
    },
    {
     "name": "stderr",
     "output_type": "stream",
     "text": [
      "Initializing global attention on CLS token...\n",
      "Initializing global attention on CLS token...\n",
      "Initializing global attention on CLS token...\n",
      "Initializing global attention on CLS token...\n",
      "Initializing global attention on CLS token...\n",
      "Initializing global attention on CLS token...\n",
      "Initializing global attention on CLS token...\n",
      "Initializing global attention on CLS token...\n",
      "Initializing global attention on CLS token...\n",
      "Initializing global attention on CLS token...\n",
      "Initializing global attention on CLS token...\n",
      "Initializing global attention on CLS token...\n",
      "Initializing global attention on CLS token...\n",
      "Initializing global attention on CLS token...\n",
      "Initializing global attention on CLS token...\n",
      "Initializing global attention on CLS token...\n",
      "Initializing global attention on CLS token...\n",
      "Initializing global attention on CLS token...\n",
      "Initializing global attention on CLS token...\n",
      "Initializing global attention on CLS token...\n",
      "Initializing global attention on CLS token...\n",
      "Initializing global attention on CLS token...\n",
      "Initializing global attention on CLS token...\n"
     ]
    },
    {
     "name": "stdout",
     "output_type": "stream",
     "text": [
      "WARNING: Unknown Card cant be found in the database. Will be removed from the deck.\n"
     ]
    },
    {
     "name": "stderr",
     "output_type": "stream",
     "text": [
      "Initializing global attention on CLS token...\n",
      "Initializing global attention on CLS token...\n",
      "Initializing global attention on CLS token...\n",
      "Initializing global attention on CLS token...\n",
      "Initializing global attention on CLS token...\n",
      "Initializing global attention on CLS token...\n",
      "Initializing global attention on CLS token...\n",
      "Initializing global attention on CLS token...\n",
      "Initializing global attention on CLS token...\n",
      "Initializing global attention on CLS token...\n",
      "Initializing global attention on CLS token...\n",
      "Initializing global attention on CLS token...\n",
      "Initializing global attention on CLS token...\n",
      "Initializing global attention on CLS token...\n",
      "Initializing global attention on CLS token...\n",
      "Initializing global attention on CLS token...\n",
      "Initializing global attention on CLS token...\n",
      "Initializing global attention on CLS token...\n",
      "Initializing global attention on CLS token...\n",
      "Initializing global attention on CLS token...\n",
      "Initializing global attention on CLS token...\n",
      "Initializing global attention on CLS token...\n",
      "Initializing global attention on CLS token...\n",
      "Initializing global attention on CLS token...\n",
      "Initializing global attention on CLS token...\n",
      "Initializing global attention on CLS token...\n",
      "Initializing global attention on CLS token...\n",
      "Initializing global attention on CLS token...\n",
      "Initializing global attention on CLS token...\n",
      "Initializing global attention on CLS token...\n",
      "Initializing global attention on CLS token...\n",
      "Initializing global attention on CLS token...\n",
      "Initializing global attention on CLS token...\n",
      "Initializing global attention on CLS token...\n",
      "Initializing global attention on CLS token...\n",
      "Initializing global attention on CLS token...\n",
      "Initializing global attention on CLS token...\n",
      "Initializing global attention on CLS token...\n"
     ]
    },
    {
     "name": "stdout",
     "output_type": "stream",
     "text": [
      "WARNING: Unknown Card cant be found in the database. Will be removed from the deck.\n"
     ]
    },
    {
     "name": "stderr",
     "output_type": "stream",
     "text": [
      "Initializing global attention on CLS token...\n",
      "Initializing global attention on CLS token...\n",
      "Initializing global attention on CLS token...\n",
      "Initializing global attention on CLS token...\n",
      "Initializing global attention on CLS token...\n",
      "Initializing global attention on CLS token...\n",
      "Initializing global attention on CLS token...\n",
      "Initializing global attention on CLS token...\n",
      "Initializing global attention on CLS token...\n",
      "Initializing global attention on CLS token...\n",
      "Initializing global attention on CLS token...\n",
      "Initializing global attention on CLS token...\n",
      "Initializing global attention on CLS token...\n",
      "Initializing global attention on CLS token...\n",
      "Initializing global attention on CLS token...\n",
      "Initializing global attention on CLS token...\n",
      "Initializing global attention on CLS token...\n",
      "Initializing global attention on CLS token...\n",
      "Initializing global attention on CLS token...\n"
     ]
    },
    {
     "name": "stdout",
     "output_type": "stream",
     "text": [
      "{'loss': 1.0845, 'learning_rate': 1.9926757812500003e-05, 'epoch': 0.01}\n"
     ]
    },
    {
     "name": "stderr",
     "output_type": "stream",
     "text": [
      "Initializing global attention on CLS token...\n",
      "Initializing global attention on CLS token...\n",
      "Initializing global attention on CLS token...\n",
      "Initializing global attention on CLS token...\n",
      "Initializing global attention on CLS token...\n",
      "Initializing global attention on CLS token...\n",
      "Initializing global attention on CLS token...\n",
      "Initializing global attention on CLS token...\n",
      "Initializing global attention on CLS token...\n",
      "Initializing global attention on CLS token...\n",
      "Initializing global attention on CLS token...\n",
      "Initializing global attention on CLS token...\n",
      "Initializing global attention on CLS token...\n",
      "Initializing global attention on CLS token...\n",
      "Initializing global attention on CLS token...\n",
      "Initializing global attention on CLS token...\n",
      "Initializing global attention on CLS token...\n",
      "Initializing global attention on CLS token...\n",
      "Initializing global attention on CLS token...\n",
      "Initializing global attention on CLS token...\n",
      "Initializing global attention on CLS token...\n",
      "Initializing global attention on CLS token...\n",
      "Initializing global attention on CLS token...\n",
      "Initializing global attention on CLS token...\n",
      "Initializing global attention on CLS token...\n",
      "Initializing global attention on CLS token...\n",
      "Initializing global attention on CLS token...\n",
      "Initializing global attention on CLS token...\n",
      "Initializing global attention on CLS token...\n",
      "Initializing global attention on CLS token...\n",
      "Initializing global attention on CLS token...\n",
      "Initializing global attention on CLS token...\n",
      "Initializing global attention on CLS token...\n",
      "Initializing global attention on CLS token...\n",
      "Initializing global attention on CLS token...\n",
      "Initializing global attention on CLS token...\n",
      "Initializing global attention on CLS token...\n",
      "Initializing global attention on CLS token...\n",
      "Initializing global attention on CLS token...\n",
      "Initializing global attention on CLS token...\n",
      "Initializing global attention on CLS token...\n",
      "Initializing global attention on CLS token...\n",
      "Initializing global attention on CLS token...\n",
      "Initializing global attention on CLS token...\n",
      "Initializing global attention on CLS token...\n",
      "Initializing global attention on CLS token...\n",
      "Initializing global attention on CLS token...\n",
      "Initializing global attention on CLS token...\n",
      "Initializing global attention on CLS token...\n",
      "Initializing global attention on CLS token...\n",
      "Initializing global attention on CLS token...\n",
      "Initializing global attention on CLS token...\n",
      "Initializing global attention on CLS token...\n",
      "Initializing global attention on CLS token...\n",
      "Initializing global attention on CLS token...\n",
      "Initializing global attention on CLS token...\n",
      "Initializing global attention on CLS token...\n",
      "Initializing global attention on CLS token...\n",
      "Initializing global attention on CLS token...\n",
      "Initializing global attention on CLS token...\n",
      "Initializing global attention on CLS token...\n",
      "Initializing global attention on CLS token...\n",
      "Initializing global attention on CLS token...\n",
      "Initializing global attention on CLS token...\n",
      "Initializing global attention on CLS token...\n",
      "Initializing global attention on CLS token...\n",
      "Initializing global attention on CLS token...\n",
      "Initializing global attention on CLS token...\n",
      "Initializing global attention on CLS token...\n",
      "Initializing global attention on CLS token...\n",
      "Initializing global attention on CLS token...\n",
      "Initializing global attention on CLS token...\n",
      "Initializing global attention on CLS token...\n",
      "Initializing global attention on CLS token...\n",
      "Initializing global attention on CLS token...\n",
      "Initializing global attention on CLS token...\n",
      "Initializing global attention on CLS token...\n",
      "Initializing global attention on CLS token...\n",
      "Initializing global attention on CLS token...\n"
     ]
    },
    {
     "name": "stdout",
     "output_type": "stream",
     "text": [
      "WARNING: Unknown Card cant be found in the database. Will be removed from the deck.\n"
     ]
    },
    {
     "name": "stderr",
     "output_type": "stream",
     "text": [
      "Initializing global attention on CLS token...\n"
     ]
    },
    {
     "name": "stdout",
     "output_type": "stream",
     "text": [
      "{'loss': 1.0444, 'learning_rate': 1.9902343750000002e-05, 'epoch': 0.01}\n"
     ]
    },
    {
     "name": "stderr",
     "output_type": "stream",
     "text": [
      "Initializing global attention on CLS token...\n",
      "Initializing global attention on CLS token...\n",
      "Initializing global attention on CLS token...\n",
      "Initializing global attention on CLS token...\n",
      "Initializing global attention on CLS token...\n",
      "Initializing global attention on CLS token...\n",
      "Initializing global attention on CLS token...\n",
      "Initializing global attention on CLS token...\n",
      "Initializing global attention on CLS token...\n",
      "Initializing global attention on CLS token...\n",
      "Initializing global attention on CLS token...\n",
      "Initializing global attention on CLS token...\n",
      "Initializing global attention on CLS token...\n",
      "Initializing global attention on CLS token...\n",
      "Initializing global attention on CLS token...\n",
      "Initializing global attention on CLS token...\n",
      "Initializing global attention on CLS token...\n",
      "Initializing global attention on CLS token...\n",
      "Initializing global attention on CLS token...\n",
      "Initializing global attention on CLS token...\n",
      "Initializing global attention on CLS token...\n",
      "Initializing global attention on CLS token...\n",
      "Initializing global attention on CLS token...\n",
      "Initializing global attention on CLS token...\n",
      "Initializing global attention on CLS token...\n",
      "Initializing global attention on CLS token...\n",
      "Initializing global attention on CLS token...\n",
      "Initializing global attention on CLS token...\n",
      "Initializing global attention on CLS token...\n",
      "Initializing global attention on CLS token...\n",
      "Initializing global attention on CLS token...\n",
      "Initializing global attention on CLS token...\n",
      "Initializing global attention on CLS token...\n",
      "Initializing global attention on CLS token...\n",
      "Initializing global attention on CLS token...\n"
     ]
    },
    {
     "ename": "KeyboardInterrupt",
     "evalue": "",
     "output_type": "error",
     "traceback": [
      "\u001b[1;31m---------------------------------------------------------------------------\u001b[0m",
      "\u001b[1;31mKeyboardInterrupt\u001b[0m                         Traceback (most recent call last)",
      "Cell \u001b[1;32mIn [4], line 1\u001b[0m\n\u001b[1;32m----> 1\u001b[0m trainer\u001b[38;5;241m.\u001b[39mtrain()\n",
      "File \u001b[1;32mc:\\Users\\javij\\miniconda3\\envs\\mtg-preds\\lib\\site-packages\\transformers\\trainer.py:1521\u001b[0m, in \u001b[0;36mTrainer.train\u001b[1;34m(self, resume_from_checkpoint, trial, ignore_keys_for_eval, **kwargs)\u001b[0m\n\u001b[0;32m   1516\u001b[0m     \u001b[38;5;28mself\u001b[39m\u001b[38;5;241m.\u001b[39mmodel_wrapped \u001b[38;5;241m=\u001b[39m \u001b[38;5;28mself\u001b[39m\u001b[38;5;241m.\u001b[39mmodel\n\u001b[0;32m   1518\u001b[0m inner_training_loop \u001b[38;5;241m=\u001b[39m find_executable_batch_size(\n\u001b[0;32m   1519\u001b[0m     \u001b[38;5;28mself\u001b[39m\u001b[38;5;241m.\u001b[39m_inner_training_loop, \u001b[38;5;28mself\u001b[39m\u001b[38;5;241m.\u001b[39m_train_batch_size, args\u001b[38;5;241m.\u001b[39mauto_find_batch_size\n\u001b[0;32m   1520\u001b[0m )\n\u001b[1;32m-> 1521\u001b[0m \u001b[38;5;28;01mreturn\u001b[39;00m \u001b[43minner_training_loop\u001b[49m\u001b[43m(\u001b[49m\n\u001b[0;32m   1522\u001b[0m \u001b[43m    \u001b[49m\u001b[43margs\u001b[49m\u001b[38;5;241;43m=\u001b[39;49m\u001b[43margs\u001b[49m\u001b[43m,\u001b[49m\n\u001b[0;32m   1523\u001b[0m \u001b[43m    \u001b[49m\u001b[43mresume_from_checkpoint\u001b[49m\u001b[38;5;241;43m=\u001b[39;49m\u001b[43mresume_from_checkpoint\u001b[49m\u001b[43m,\u001b[49m\n\u001b[0;32m   1524\u001b[0m \u001b[43m    \u001b[49m\u001b[43mtrial\u001b[49m\u001b[38;5;241;43m=\u001b[39;49m\u001b[43mtrial\u001b[49m\u001b[43m,\u001b[49m\n\u001b[0;32m   1525\u001b[0m \u001b[43m    \u001b[49m\u001b[43mignore_keys_for_eval\u001b[49m\u001b[38;5;241;43m=\u001b[39;49m\u001b[43mignore_keys_for_eval\u001b[49m\u001b[43m,\u001b[49m\n\u001b[0;32m   1526\u001b[0m \u001b[43m\u001b[49m\u001b[43m)\u001b[49m\n",
      "File \u001b[1;32mc:\\Users\\javij\\miniconda3\\envs\\mtg-preds\\lib\\site-packages\\transformers\\trainer.py:1763\u001b[0m, in \u001b[0;36mTrainer._inner_training_loop\u001b[1;34m(self, batch_size, args, resume_from_checkpoint, trial, ignore_keys_for_eval)\u001b[0m\n\u001b[0;32m   1761\u001b[0m         tr_loss_step \u001b[38;5;241m=\u001b[39m \u001b[38;5;28mself\u001b[39m\u001b[38;5;241m.\u001b[39mtraining_step(model, inputs)\n\u001b[0;32m   1762\u001b[0m \u001b[38;5;28;01melse\u001b[39;00m:\n\u001b[1;32m-> 1763\u001b[0m     tr_loss_step \u001b[38;5;241m=\u001b[39m \u001b[38;5;28;43mself\u001b[39;49m\u001b[38;5;241;43m.\u001b[39;49m\u001b[43mtraining_step\u001b[49m\u001b[43m(\u001b[49m\u001b[43mmodel\u001b[49m\u001b[43m,\u001b[49m\u001b[43m \u001b[49m\u001b[43minputs\u001b[49m\u001b[43m)\u001b[49m\n\u001b[0;32m   1765\u001b[0m \u001b[38;5;28;01mif\u001b[39;00m (\n\u001b[0;32m   1766\u001b[0m     args\u001b[38;5;241m.\u001b[39mlogging_nan_inf_filter\n\u001b[0;32m   1767\u001b[0m     \u001b[38;5;129;01mand\u001b[39;00m \u001b[38;5;129;01mnot\u001b[39;00m is_torch_tpu_available()\n\u001b[0;32m   1768\u001b[0m     \u001b[38;5;129;01mand\u001b[39;00m (torch\u001b[38;5;241m.\u001b[39misnan(tr_loss_step) \u001b[38;5;129;01mor\u001b[39;00m torch\u001b[38;5;241m.\u001b[39misinf(tr_loss_step))\n\u001b[0;32m   1769\u001b[0m ):\n\u001b[0;32m   1770\u001b[0m     \u001b[38;5;66;03m# if loss is nan or inf simply add the average of previous logged losses\u001b[39;00m\n\u001b[0;32m   1771\u001b[0m     tr_loss \u001b[38;5;241m+\u001b[39m\u001b[38;5;241m=\u001b[39m tr_loss \u001b[38;5;241m/\u001b[39m (\u001b[38;5;241m1\u001b[39m \u001b[38;5;241m+\u001b[39m \u001b[38;5;28mself\u001b[39m\u001b[38;5;241m.\u001b[39mstate\u001b[38;5;241m.\u001b[39mglobal_step \u001b[38;5;241m-\u001b[39m \u001b[38;5;28mself\u001b[39m\u001b[38;5;241m.\u001b[39m_globalstep_last_logged)\n",
      "File \u001b[1;32mc:\\Users\\javij\\miniconda3\\envs\\mtg-preds\\lib\\site-packages\\transformers\\trainer.py:2517\u001b[0m, in \u001b[0;36mTrainer.training_step\u001b[1;34m(self, model, inputs)\u001b[0m\n\u001b[0;32m   2515\u001b[0m     loss \u001b[38;5;241m=\u001b[39m \u001b[38;5;28mself\u001b[39m\u001b[38;5;241m.\u001b[39mdeepspeed\u001b[38;5;241m.\u001b[39mbackward(loss)\n\u001b[0;32m   2516\u001b[0m \u001b[38;5;28;01melse\u001b[39;00m:\n\u001b[1;32m-> 2517\u001b[0m     \u001b[43mloss\u001b[49m\u001b[38;5;241;43m.\u001b[39;49m\u001b[43mbackward\u001b[49m\u001b[43m(\u001b[49m\u001b[43m)\u001b[49m\n\u001b[0;32m   2519\u001b[0m \u001b[38;5;28;01mreturn\u001b[39;00m loss\u001b[38;5;241m.\u001b[39mdetach()\n",
      "File \u001b[1;32mc:\\Users\\javij\\miniconda3\\envs\\mtg-preds\\lib\\site-packages\\torch\\_tensor.py:396\u001b[0m, in \u001b[0;36mTensor.backward\u001b[1;34m(self, gradient, retain_graph, create_graph, inputs)\u001b[0m\n\u001b[0;32m    387\u001b[0m \u001b[38;5;28;01mif\u001b[39;00m has_torch_function_unary(\u001b[38;5;28mself\u001b[39m):\n\u001b[0;32m    388\u001b[0m     \u001b[38;5;28;01mreturn\u001b[39;00m handle_torch_function(\n\u001b[0;32m    389\u001b[0m         Tensor\u001b[38;5;241m.\u001b[39mbackward,\n\u001b[0;32m    390\u001b[0m         (\u001b[38;5;28mself\u001b[39m,),\n\u001b[1;32m   (...)\u001b[0m\n\u001b[0;32m    394\u001b[0m         create_graph\u001b[38;5;241m=\u001b[39mcreate_graph,\n\u001b[0;32m    395\u001b[0m         inputs\u001b[38;5;241m=\u001b[39minputs)\n\u001b[1;32m--> 396\u001b[0m \u001b[43mtorch\u001b[49m\u001b[38;5;241;43m.\u001b[39;49m\u001b[43mautograd\u001b[49m\u001b[38;5;241;43m.\u001b[39;49m\u001b[43mbackward\u001b[49m\u001b[43m(\u001b[49m\u001b[38;5;28;43mself\u001b[39;49m\u001b[43m,\u001b[49m\u001b[43m \u001b[49m\u001b[43mgradient\u001b[49m\u001b[43m,\u001b[49m\u001b[43m \u001b[49m\u001b[43mretain_graph\u001b[49m\u001b[43m,\u001b[49m\u001b[43m \u001b[49m\u001b[43mcreate_graph\u001b[49m\u001b[43m,\u001b[49m\u001b[43m \u001b[49m\u001b[43minputs\u001b[49m\u001b[38;5;241;43m=\u001b[39;49m\u001b[43minputs\u001b[49m\u001b[43m)\u001b[49m\n",
      "File \u001b[1;32mc:\\Users\\javij\\miniconda3\\envs\\mtg-preds\\lib\\site-packages\\torch\\autograd\\__init__.py:173\u001b[0m, in \u001b[0;36mbackward\u001b[1;34m(tensors, grad_tensors, retain_graph, create_graph, grad_variables, inputs)\u001b[0m\n\u001b[0;32m    168\u001b[0m     retain_graph \u001b[38;5;241m=\u001b[39m create_graph\n\u001b[0;32m    170\u001b[0m \u001b[38;5;66;03m# The reason we repeat same the comment below is that\u001b[39;00m\n\u001b[0;32m    171\u001b[0m \u001b[38;5;66;03m# some Python versions print out the first line of a multi-line function\u001b[39;00m\n\u001b[0;32m    172\u001b[0m \u001b[38;5;66;03m# calls in the traceback and some print out the last line\u001b[39;00m\n\u001b[1;32m--> 173\u001b[0m \u001b[43mVariable\u001b[49m\u001b[38;5;241;43m.\u001b[39;49m\u001b[43m_execution_engine\u001b[49m\u001b[38;5;241;43m.\u001b[39;49m\u001b[43mrun_backward\u001b[49m\u001b[43m(\u001b[49m\u001b[43m  \u001b[49m\u001b[38;5;66;43;03m# Calls into the C++ engine to run the backward pass\u001b[39;49;00m\n\u001b[0;32m    174\u001b[0m \u001b[43m    \u001b[49m\u001b[43mtensors\u001b[49m\u001b[43m,\u001b[49m\u001b[43m \u001b[49m\u001b[43mgrad_tensors_\u001b[49m\u001b[43m,\u001b[49m\u001b[43m \u001b[49m\u001b[43mretain_graph\u001b[49m\u001b[43m,\u001b[49m\u001b[43m \u001b[49m\u001b[43mcreate_graph\u001b[49m\u001b[43m,\u001b[49m\u001b[43m \u001b[49m\u001b[43minputs\u001b[49m\u001b[43m,\u001b[49m\n\u001b[0;32m    175\u001b[0m \u001b[43m    \u001b[49m\u001b[43mallow_unreachable\u001b[49m\u001b[38;5;241;43m=\u001b[39;49m\u001b[38;5;28;43;01mTrue\u001b[39;49;00m\u001b[43m,\u001b[49m\u001b[43m \u001b[49m\u001b[43maccumulate_grad\u001b[49m\u001b[38;5;241;43m=\u001b[39;49m\u001b[38;5;28;43;01mTrue\u001b[39;49;00m\u001b[43m)\u001b[49m\n",
      "\u001b[1;31mKeyboardInterrupt\u001b[0m: "
     ]
    }
   ],
   "source": [
    "trainer.train()"
   ]
  }
 ],
 "metadata": {
  "kernelspec": {
   "display_name": "mtg-preds",
   "language": "python",
   "name": "python3"
  },
  "language_info": {
   "codemirror_mode": {
    "name": "ipython",
    "version": 3
   },
   "file_extension": ".py",
   "mimetype": "text/x-python",
   "name": "python",
   "nbconvert_exporter": "python",
   "pygments_lexer": "ipython3",
   "version": "3.9.13"
  }
 },
 "nbformat": 4,
 "nbformat_minor": 2
}
